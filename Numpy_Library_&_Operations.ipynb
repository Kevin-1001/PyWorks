{
  "cells": [
    {
      "cell_type": "markdown",
      "metadata": {
        "id": "view-in-github",
        "colab_type": "text"
      },
      "source": [
        "<a href=\"https://colab.research.google.com/github/sijuswamy/PyWorks/blob/main/Numpy_Library_%26_Operations.ipynb\" target=\"_parent\"><img src=\"https://colab.research.google.com/assets/colab-badge.svg\" alt=\"Open In Colab\"/></a>"
      ]
    },
    {
      "cell_type": "markdown",
      "metadata": {
        "id": "yqwQV01-wzS5"
      },
      "source": [
        "## `Numpy`- Numerical Python\n",
        "\n",
        "> The python library for basic array operations.\n",
        "\n",
        "### Basics\n",
        "\n",
        "This section will present several examples of using NumPy array manipulation to access data and subarrays, and to split, reshape, and join the arrays.\n",
        "While the types of operations shown here may seem a bit dry and pedantic, they comprise the building blocks of many other examples used throughout the book.\n",
        "Get to know them well!\n",
        "\n",
        "We'll cover a few categories of basic array manipulations here:\n",
        "\n",
        "- *Attributes of arrays*: Determining the size, shape, memory consumption, and data types of arrays\n",
        "- *Indexing of arrays*: Getting and setting the value of individual array elements\n",
        "- *Slicing of arrays*: Getting and setting smaller subarrays within a larger array\n",
        "- *Reshaping of arrays*: Changing the shape of a given array\n",
        "- *Joining and splitting of arrays*: Combining multiple arrays into one, and splitting one array into many"
      ]
    },
    {
      "cell_type": "markdown",
      "metadata": {
        "id": "pLuCaty1x2vc"
      },
      "source": [
        "## `NumPy` Array Attributes\n",
        "\n",
        "First let's discuss some useful array attributes.\n",
        "\n",
        "We'll start by defining three random arrays, a one-dimensional, two-dimensional, and three-dimensional array.\n",
        "\n",
        "We'll use `NumPy`'s random number generator, which we will *seed* with a set value in order to ensure that the same random arrays are generated each time this code is run:"
      ]
    },
    {
      "cell_type": "markdown",
      "metadata": {
        "id": "HSt0S2X6zf2X"
      },
      "source": [
        "### Loading `numpy` to a python programme\n",
        "\n",
        ">Syntax \n",
        "\n",
        "```\n",
        "import numpy as <<\"name of instance\">>\n",
        "\n",
        "```\n",
        "\n",
        "eg: ``` import numpy as np```"
      ]
    },
    {
      "cell_type": "code",
      "execution_count": null,
      "metadata": {
        "id": "UwWDzgFq0MGY"
      },
      "outputs": [],
      "source": [
        "import numpy as np"
      ]
    },
    {
      "cell_type": "markdown",
      "metadata": {
        "id": "TSqZWeNh09k_"
      },
      "source": [
        "## Define different types of `numpy` arrays"
      ]
    },
    {
      "cell_type": "code",
      "execution_count": null,
      "metadata": {
        "id": "vdOlq08z1DhC"
      },
      "outputs": [],
      "source": [
        "#np.random.seed(0)  # seed for reproducibility\n",
        "\n",
        "x1 = np.random.randint(10, size=6)  # One-dimensional array\n",
        "x2 = np.random.randint(10, size=(3, 4))  # Two-dimensional array\n",
        "x3 = np.random.randint(10, size=(3, 4, 5))  # Three-dimensional array"
      ]
    },
    {
      "cell_type": "code",
      "execution_count": null,
      "metadata": {
        "colab": {
          "base_uri": "https://localhost:8080/"
        },
        "id": "siq1z0-s4JAv",
        "outputId": "366a739e-4dc2-4c8a-effb-5070efe699e0"
      },
      "outputs": [
        {
          "name": "stdout",
          "output_type": "stream",
          "text": [
            "[8 5 4 7 4 1]\n"
          ]
        }
      ],
      "source": [
        "print(x1)"
      ]
    },
    {
      "cell_type": "code",
      "execution_count": null,
      "metadata": {
        "colab": {
          "base_uri": "https://localhost:8080/"
        },
        "id": "KNOhd8Ln5ZSn",
        "outputId": "f3136126-d29c-43c7-d5ef-368244a362d9"
      },
      "outputs": [
        {
          "name": "stdout",
          "output_type": "stream",
          "text": [
            "[[3 3 9 2]\n",
            " [5 2 3 5]\n",
            " [7 2 7 1]]\n"
          ]
        }
      ],
      "source": [
        "print(x2)"
      ]
    },
    {
      "cell_type": "code",
      "execution_count": null,
      "metadata": {
        "colab": {
          "base_uri": "https://localhost:8080/"
        },
        "id": "PAcwUovk5jmT",
        "outputId": "350a0a95-45ca-4cb9-f566-0c3ba225dc1b"
      },
      "outputs": [
        {
          "name": "stdout",
          "output_type": "stream",
          "text": [
            "[[[6 5 0 0 3]\n",
            "  [1 9 9 6 6]\n",
            "  [7 8 8 7 0]\n",
            "  [8 6 8 9 8]]\n",
            "\n",
            " [[3 6 1 7 4]\n",
            "  [9 2 0 8 2]\n",
            "  [7 8 4 4 1]\n",
            "  [7 6 9 4 1]]\n",
            "\n",
            " [[5 9 7 1 3]\n",
            "  [5 7 3 6 6]\n",
            "  [7 9 1 9 6]\n",
            "  [0 3 8 4 1]]]\n"
          ]
        }
      ],
      "source": [
        "print(x3)"
      ]
    },
    {
      "cell_type": "markdown",
      "metadata": {
        "id": "LTo1EKoS6onQ"
      },
      "source": [
        "## Attributes of arrays\n",
        "\n",
        "Each array has attributes ``ndim`` (the number of dimensions), ``shape`` (the size of each dimension), and ``size`` (the total size of the array):"
      ]
    },
    {
      "cell_type": "code",
      "execution_count": null,
      "metadata": {
        "colab": {
          "base_uri": "https://localhost:8080/"
        },
        "id": "-OX61lTg68Ay",
        "outputId": "077b8476-5c2c-4ae3-a588-366e702ad786"
      },
      "outputs": [
        {
          "name": "stdout",
          "output_type": "stream",
          "text": [
            "x3 ndim:  3\n",
            "x3 shape: (3, 4, 5)\n",
            "x3 size:  60\n"
          ]
        }
      ],
      "source": [
        "print(\"x3 ndim: \", x3.ndim)\n",
        "print(\"x3 shape:\", x3.shape)\n",
        "print(\"x3 size: \", x3.size)"
      ]
    },
    {
      "cell_type": "markdown",
      "metadata": {
        "id": "Lo6325_u7U01"
      },
      "source": [
        "Another useful attribute is the ``dtype``, the data type of the array"
      ]
    },
    {
      "cell_type": "code",
      "execution_count": null,
      "metadata": {
        "colab": {
          "base_uri": "https://localhost:8080/"
        },
        "id": "-Wre3ix_7c0I",
        "outputId": "84e02405-7964-45a2-f90f-82484fa0f14b"
      },
      "outputs": [
        {
          "name": "stdout",
          "output_type": "stream",
          "text": [
            "dtype: int64\n"
          ]
        }
      ],
      "source": [
        "print(\"dtype:\", x3.dtype)"
      ]
    },
    {
      "cell_type": "markdown",
      "metadata": {
        "id": "GOBBwyp97xGL"
      },
      "source": [
        "Other attributes include ``itemsize``, which lists the size (in bytes) of each array element, and ``nbytes``, which lists the total size (in bytes) of the array:"
      ]
    },
    {
      "cell_type": "code",
      "execution_count": null,
      "metadata": {
        "colab": {
          "base_uri": "https://localhost:8080/"
        },
        "id": "L6x0NRff76Ah",
        "outputId": "4316a854-9640-45c8-f4e4-a3bcdaad4c64"
      },
      "outputs": [
        {
          "name": "stdout",
          "output_type": "stream",
          "text": [
            "itemsize: 8 bytes\n",
            "nbytes: 480 bytes\n"
          ]
        }
      ],
      "source": [
        "print(\"itemsize:\", x3.itemsize, \"bytes\")\n",
        "print(\"nbytes:\", x3.nbytes, \"bytes\")"
      ]
    },
    {
      "cell_type": "markdown",
      "metadata": {
        "id": "QGV3yGPu8Phf"
      },
      "source": [
        "## Array Indexing: Accessing Single Elements\n",
        "If you are familiar with Python's standard list indexing, indexing in NumPy will feel quite familiar.\n",
        "In a one-dimensional array, the $i^{th}$ value (counting from zero) can be accessed by specifying the desired index in square brackets, just as with Python lists:"
      ]
    },
    {
      "cell_type": "code",
      "execution_count": null,
      "metadata": {
        "colab": {
          "base_uri": "https://localhost:8080/"
        },
        "id": "AajJ84PZ88Uj",
        "outputId": "9b8b8f73-362c-4c31-9e2d-4e6693d099e2"
      },
      "outputs": [
        {
          "data": {
            "text/plain": [
              "array([8, 5, 4, 7, 4, 1])"
            ]
          },
          "execution_count": 19,
          "metadata": {},
          "output_type": "execute_result"
        }
      ],
      "source": [
        "x1 # shows the contents of the array x1"
      ]
    },
    {
      "cell_type": "code",
      "execution_count": null,
      "metadata": {
        "colab": {
          "base_uri": "https://localhost:8080/"
        },
        "id": "fEO4mblY9UCw",
        "outputId": "e461a49c-05b2-48b4-8fc0-53848c7d1a51"
      },
      "outputs": [
        {
          "data": {
            "text/plain": [
              "7"
            ]
          },
          "execution_count": 21,
          "metadata": {},
          "output_type": "execute_result"
        }
      ],
      "source": [
        "x1[3] ## access the 4th element in the array x1"
      ]
    },
    {
      "cell_type": "markdown",
      "metadata": {
        "id": "GluqTQ_-98ou"
      },
      "source": [
        ">Note:\n",
        "\n",
        "To index from the end of the array, you can use negative indices:"
      ]
    },
    {
      "cell_type": "code",
      "execution_count": null,
      "metadata": {
        "colab": {
          "base_uri": "https://localhost:8080/"
        },
        "id": "V3NGu8Zd-AF7",
        "outputId": "0ba3f117-b421-4aa6-8362-206da98588b4"
      },
      "outputs": [
        {
          "data": {
            "text/plain": [
              "array([8, 5, 4, 7, 4, 1])"
            ]
          },
          "execution_count": 22,
          "metadata": {},
          "output_type": "execute_result"
        }
      ],
      "source": [
        "x1"
      ]
    },
    {
      "cell_type": "code",
      "execution_count": null,
      "metadata": {
        "id": "32GTQXNb-DTZ"
      },
      "outputs": [],
      "source": [
        "x1[-1] ## access the first element from last"
      ]
    },
    {
      "cell_type": "code",
      "execution_count": null,
      "metadata": {
        "id": "o6QKa5KC-s44"
      },
      "outputs": [],
      "source": [
        "x1[-2] ## access the second element from the last"
      ]
    },
    {
      "cell_type": "markdown",
      "metadata": {
        "id": "hoe_jcAg_Ftc"
      },
      "source": [
        ">In a multi-dimensional array, items can be accessed using a comma-separated tuple of indices:"
      ]
    },
    {
      "cell_type": "code",
      "execution_count": null,
      "metadata": {
        "colab": {
          "base_uri": "https://localhost:8080/"
        },
        "id": "9mEZH2p3_EzW",
        "outputId": "31e9c1d1-e4bb-457d-c534-5e852e708faa"
      },
      "outputs": [
        {
          "data": {
            "text/plain": [
              "array([[3, 3, 9, 2],\n",
              "       [5, 2, 3, 5],\n",
              "       [7, 2, 7, 1]])"
            ]
          },
          "execution_count": 25,
          "metadata": {},
          "output_type": "execute_result"
        }
      ],
      "source": [
        "x2 # list the 2-D array"
      ]
    },
    {
      "cell_type": "code",
      "execution_count": null,
      "metadata": {
        "colab": {
          "base_uri": "https://localhost:8080/"
        },
        "id": "nOVUhEoyAEj0",
        "outputId": "472d1ecb-f963-42cd-c9ab-55259ab8d647"
      },
      "outputs": [
        {
          "data": {
            "text/plain": [
              "3"
            ]
          },
          "execution_count": 26,
          "metadata": {},
          "output_type": "execute_result"
        }
      ],
      "source": [
        "x2[0, 0] ## access the element in first row and first column"
      ]
    },
    {
      "cell_type": "code",
      "execution_count": null,
      "metadata": {
        "colab": {
          "base_uri": "https://localhost:8080/"
        },
        "id": "Wx5buubGATxJ",
        "outputId": "12ae7a95-d83a-4e87-fa07-8c7e3f34a349"
      },
      "outputs": [
        {
          "data": {
            "text/plain": [
              "1"
            ]
          },
          "execution_count": 27,
          "metadata": {},
          "output_type": "execute_result"
        }
      ],
      "source": [
        "x2[2, -1] ## access the element in the 3rd row and last column"
      ]
    },
    {
      "cell_type": "markdown",
      "metadata": {
        "id": "cPl1wwx5A799"
      },
      "source": [
        "Values can also be modified using any of the above index notation:"
      ]
    },
    {
      "cell_type": "code",
      "execution_count": null,
      "metadata": {
        "id": "YeeyQeYYBAZ0"
      },
      "outputs": [],
      "source": [
        "x2[2, -1]=20 ## replace the 3rd row last column element of x2 by 20"
      ]
    },
    {
      "cell_type": "code",
      "execution_count": null,
      "metadata": {
        "colab": {
          "base_uri": "https://localhost:8080/"
        },
        "id": "14k0nZopBIIe",
        "outputId": "b7abffac-aa27-4625-af63-e1e59d5e9fe3"
      },
      "outputs": [
        {
          "data": {
            "text/plain": [
              "array([[ 3,  3,  9,  2],\n",
              "       [ 5,  2,  3,  5],\n",
              "       [ 7,  2,  7, 20]])"
            ]
          },
          "execution_count": 29,
          "metadata": {},
          "output_type": "execute_result"
        }
      ],
      "source": [
        "x2 ## display updated x2"
      ]
    },
    {
      "cell_type": "markdown",
      "metadata": {
        "id": "20wiuamXCBMW"
      },
      "source": [
        "> Keep in mind that, unlike Python lists, NumPy arrays have a fixed type.\n",
        "This means, for example, that if you attempt to insert a floating-point value to an integer array, the value will be silently truncated. Don't be caught unaware by this behavior!"
      ]
    },
    {
      "cell_type": "code",
      "execution_count": null,
      "metadata": {
        "colab": {
          "base_uri": "https://localhost:8080/"
        },
        "id": "JTVbOXVLCMdv",
        "outputId": "2f190b1d-ebc3-4277-9b29-365e058c5a5f"
      },
      "outputs": [
        {
          "data": {
            "text/plain": [
              "array([8, 5, 4, 7, 4, 1])"
            ]
          },
          "execution_count": 30,
          "metadata": {},
          "output_type": "execute_result"
        }
      ],
      "source": [
        "## to show contents of the array x1\n",
        "x1"
      ]
    },
    {
      "cell_type": "code",
      "execution_count": null,
      "metadata": {
        "colab": {
          "base_uri": "https://localhost:8080/"
        },
        "id": "qf-cPo9vCLF3",
        "outputId": "2b1c431f-a4e0-496a-ec0b-c418f89a7fc3"
      },
      "outputs": [
        {
          "data": {
            "text/plain": [
              "array([3, 5, 4, 7, 4, 1])"
            ]
          },
          "execution_count": 31,
          "metadata": {},
          "output_type": "execute_result"
        }
      ],
      "source": [
        "## repalce first value of x1 with 3.14195\n",
        "x1[0] = 3.14159  # this will be truncated!\n",
        "x1"
      ]
    },
    {
      "cell_type": "markdown",
      "metadata": {
        "id": "r4QuhUKMEWxx"
      },
      "source": [
        "## Array Slicing: Accessing Subarrays\n",
        "\n",
        "Just as we can use square brackets to access individual array elements, we can also use them to access subarrays with the *slice* notation, marked by the colon (``:``) character.\n",
        "The NumPy slicing syntax follows that of the standard Python list; to access a slice of an array ``x``, use this:\n",
        "``` python\n",
        "x[start:stop:step]\n",
        "```\n",
        "If any of these are unspecified, they default to the values ``start=0``, ``stop=``*``size of dimension``*, ``step=1``.\n",
        "We'll take a look at accessing sub-arrays in one dimension and in multiple dimensions."
      ]
    },
    {
      "cell_type": "markdown",
      "metadata": {
        "id": "HBqgBz4pEzYg"
      },
      "source": [
        "### One-dimensional subarrays"
      ]
    },
    {
      "cell_type": "code",
      "execution_count": null,
      "metadata": {
        "colab": {
          "base_uri": "https://localhost:8080/"
        },
        "id": "gtC10YeSEx_g",
        "outputId": "78efe8ab-82e1-474b-ef42-09c2fb193d38"
      },
      "outputs": [
        {
          "data": {
            "text/plain": [
              "array([0, 1, 2, 3, 4, 5, 6, 7, 8, 9])"
            ]
          },
          "execution_count": 32,
          "metadata": {},
          "output_type": "execute_result"
        }
      ],
      "source": [
        "x = np.arange(10)\n",
        "x"
      ]
    },
    {
      "cell_type": "code",
      "execution_count": null,
      "metadata": {
        "colab": {
          "base_uri": "https://localhost:8080/"
        },
        "id": "Pj4eRXObFOvk",
        "outputId": "7517f06e-9d02-4638-e9d8-dee48d66b9cf"
      },
      "outputs": [
        {
          "data": {
            "text/plain": [
              "array([0, 1, 2, 3, 4])"
            ]
          },
          "execution_count": 35,
          "metadata": {},
          "output_type": "execute_result"
        }
      ],
      "source": [
        "x[:5]  # first five elements"
      ]
    },
    {
      "cell_type": "code",
      "execution_count": null,
      "metadata": {
        "colab": {
          "base_uri": "https://localhost:8080/"
        },
        "id": "qVEy0KbGEVfX",
        "outputId": "92aef409-14da-49e7-a34e-9d3b4306bffc"
      },
      "outputs": [
        {
          "data": {
            "text/plain": [
              "array([5, 6, 7, 8, 9])"
            ]
          },
          "execution_count": 36,
          "metadata": {},
          "output_type": "execute_result"
        }
      ],
      "source": [
        "x[5:]  # elements after index 5"
      ]
    },
    {
      "cell_type": "code",
      "execution_count": null,
      "metadata": {
        "colab": {
          "base_uri": "https://localhost:8080/"
        },
        "id": "XfbhkotXF3k8",
        "outputId": "47c88636-9b92-4787-f5a9-7550d1c1c3a0"
      },
      "outputs": [
        {
          "data": {
            "text/plain": [
              "array([4, 5, 6])"
            ]
          },
          "execution_count": 37,
          "metadata": {},
          "output_type": "execute_result"
        }
      ],
      "source": [
        "x[4:7]  # middle sub-array"
      ]
    },
    {
      "cell_type": "code",
      "execution_count": null,
      "metadata": {
        "id": "_sOQ2HU7GF3q"
      },
      "outputs": [],
      "source": [
        "x"
      ]
    },
    {
      "cell_type": "code",
      "execution_count": null,
      "metadata": {
        "colab": {
          "background_save": true
        },
        "id": "8lUg3rBUGEXU",
        "outputId": "52001643-ce0d-4bcf-8acb-aa349e263731"
      },
      "outputs": [
        {
          "data": {
            "text/plain": [
              "array([0, 2, 4, 6, 8])"
            ]
          },
          "execution_count": 39,
          "metadata": {},
          "output_type": "execute_result"
        }
      ],
      "source": [
        "x[::2]  # every other element with step 2 (alternate elements)"
      ]
    },
    {
      "cell_type": "markdown",
      "source": [
        "## Reading a 2-D array or matrix in `numpy`\n",
        "\n",
        "```{python}\n",
        "name_of_array=np.array([[row1],[row2],[row3]])\n",
        "```"
      ],
      "metadata": {
        "id": "vGTRRSDP3NN2"
      }
    },
    {
      "cell_type": "code",
      "source": [
        "import numpy as np"
      ],
      "metadata": {
        "id": "Dn-XEyCO4DtJ"
      },
      "execution_count": null,
      "outputs": []
    },
    {
      "cell_type": "code",
      "source": [
        "marks=np.array([[1, 2 ,3],[2 ,3 ,4],[5,6,7]])"
      ],
      "metadata": {
        "id": "bH1yH_SI3kZi"
      },
      "execution_count": null,
      "outputs": []
    },
    {
      "cell_type": "code",
      "source": [
        "print(marks)"
      ],
      "metadata": {
        "colab": {
          "base_uri": "https://localhost:8080/"
        },
        "id": "YwMfJ_W34UBw",
        "outputId": "c886400f-a776-4438-cc05-b2bd87e26ef0"
      },
      "execution_count": null,
      "outputs": [
        {
          "output_type": "stream",
          "name": "stdout",
          "text": [
            "[[1 2 3]\n",
            " [2 3 4]\n",
            " [5 6 7]]\n"
          ]
        }
      ]
    },
    {
      "cell_type": "code",
      "source": [
        "C1=(marks[:,0]) # assign all elements in the first column to a new variable C1"
      ],
      "metadata": {
        "id": "qRL9pSY86CKo"
      },
      "execution_count": null,
      "outputs": []
    },
    {
      "cell_type": "code",
      "source": [
        "print(C1) # display content of C1"
      ],
      "metadata": {
        "colab": {
          "base_uri": "https://localhost:8080/"
        },
        "id": "nXtwzgXa7YMR",
        "outputId": "70dce798-9dc2-4320-a8b9-00f53e839869"
      },
      "execution_count": null,
      "outputs": [
        {
          "output_type": "stream",
          "name": "stdout",
          "text": [
            "[1 2 5]\n"
          ]
        }
      ]
    },
    {
      "cell_type": "code",
      "source": [
        "C2=C1.reshape(3,1)# reshape the list C1 into a 3X1 matrix"
      ],
      "metadata": {
        "id": "701_PeVn6jAM"
      },
      "execution_count": null,
      "outputs": []
    },
    {
      "cell_type": "code",
      "source": [
        "print(C2)"
      ],
      "metadata": {
        "colab": {
          "base_uri": "https://localhost:8080/"
        },
        "id": "UdiesN9A7U3D",
        "outputId": "4fe5a1aa-5b1e-451d-b46d-8f177d4357c7"
      },
      "execution_count": null,
      "outputs": [
        {
          "output_type": "stream",
          "name": "stdout",
          "text": [
            "[[1]\n",
            " [2]\n",
            " [5]]\n"
          ]
        }
      ]
    },
    {
      "cell_type": "markdown",
      "source": [
        "### Multi-dimensional subarrays (slicing)\n",
        "\n",
        "Multi-dimensional slices work in the same way, with multiple slices separated by commas.\n",
        "For example:"
      ],
      "metadata": {
        "id": "5W1IgqVb8oha"
      }
    },
    {
      "cell_type": "code",
      "source": [
        "# creating a two dimensional array\n",
        "x2=np.array([[1,2,3],[3,4,5],[5,6,7]])"
      ],
      "metadata": {
        "id": "QC5iuvQk81M1"
      },
      "execution_count": null,
      "outputs": []
    },
    {
      "cell_type": "code",
      "source": [
        "print(x2)"
      ],
      "metadata": {
        "colab": {
          "base_uri": "https://localhost:8080/"
        },
        "id": "hx98xYRP9bvi",
        "outputId": "97a7d81f-c192-4f4e-b970-36944e6a039c"
      },
      "execution_count": null,
      "outputs": [
        {
          "output_type": "stream",
          "name": "stdout",
          "text": [
            "[[1 2 3]\n",
            " [3 4 5]\n",
            " [5 6 7]]\n"
          ]
        }
      ]
    },
    {
      "cell_type": "code",
      "source": [
        "# selecting first 3 rows and first two columns from x2\n",
        "print(x2[:3,:2])"
      ],
      "metadata": {
        "colab": {
          "base_uri": "https://localhost:8080/"
        },
        "id": "9F2egHmj-6fz",
        "outputId": "60f2346b-9903-4951-aea1-533b7550c732"
      },
      "execution_count": null,
      "outputs": [
        {
          "output_type": "stream",
          "name": "stdout",
          "text": [
            "[[1 2]\n",
            " [3 4]\n",
            " [5 6]]\n"
          ]
        }
      ]
    },
    {
      "cell_type": "code",
      "source": [
        "print(x2[:3:2,:3:2]) # slice alternate elements in first three rows and first three columns"
      ],
      "metadata": {
        "colab": {
          "base_uri": "https://localhost:8080/"
        },
        "id": "RlvJz5-F_QJI",
        "outputId": "4a96dd39-4b92-4824-f223-a1a94b606e16"
      },
      "execution_count": null,
      "outputs": [
        {
          "output_type": "stream",
          "name": "stdout",
          "text": [
            "[[1 3]\n",
            " [5 7]]\n"
          ]
        }
      ]
    },
    {
      "cell_type": "markdown",
      "source": [
        ">**Note:** Accessing array rows and columns\n",
        "\n",
        "One commonly needed routine is accessing of single rows or columns of an array.\n",
        "This can be done by combining indexing and slicing, using an empty slice marked by a single colon (``:``):"
      ],
      "metadata": {
        "id": "XycjLR9SACSH"
      }
    },
    {
      "cell_type": "markdown",
      "source": [
        ">For example *all the elements* in first column can be accessed as:"
      ],
      "metadata": {
        "id": "PF6bXZzLAO3I"
      }
    },
    {
      "cell_type": "code",
      "source": [
        "print(x2[:, 0])  # first column of x2"
      ],
      "metadata": {
        "colab": {
          "base_uri": "https://localhost:8080/"
        },
        "id": "PMSIOyfwABY1",
        "outputId": "96327d86-ee15-4e19-e3b0-c020e56a5615"
      },
      "execution_count": null,
      "outputs": [
        {
          "output_type": "stream",
          "name": "stdout",
          "text": [
            "[1 3 5]\n"
          ]
        }
      ]
    },
    {
      "cell_type": "markdown",
      "source": [
        "### Creating copies of arrays\n",
        "\n",
        "Despite the nice features of array views, it is sometimes useful to instead explicitly copy the data within an array or a subarray. This can be most easily done with the ``copy()`` method:"
      ],
      "metadata": {
        "id": "D2BNtPstBDBw"
      }
    },
    {
      "cell_type": "code",
      "source": [
        "# create a copy of subarray and store it with the new name\n",
        "x2_sub_copy = x2[:2, :2].copy()\n",
        "print(x2_sub_copy)"
      ],
      "metadata": {
        "colab": {
          "base_uri": "https://localhost:8080/"
        },
        "id": "jb93hDmgAffv",
        "outputId": "b13a4f84-487d-48f2-cbe0-4d369168dcaa"
      },
      "execution_count": null,
      "outputs": [
        {
          "output_type": "stream",
          "name": "stdout",
          "text": [
            "[[1 2]\n",
            " [3 4]]\n"
          ]
        }
      ]
    },
    {
      "cell_type": "markdown",
      "source": [
        "If we now modify this subarray, the original array is not touched:"
      ],
      "metadata": {
        "id": "0kpDKdMaCggE"
      }
    },
    {
      "cell_type": "code",
      "source": [
        "x2_sub_copy[0, 0] = 42\n",
        "print(x2_sub_copy)"
      ],
      "metadata": {
        "colab": {
          "base_uri": "https://localhost:8080/"
        },
        "id": "xzrDdcleAfcN",
        "outputId": "96df5b68-88fb-4550-f9ac-665e28e42480"
      },
      "execution_count": null,
      "outputs": [
        {
          "output_type": "stream",
          "name": "stdout",
          "text": [
            "[[42  2]\n",
            " [ 3  4]]\n"
          ]
        }
      ]
    },
    {
      "cell_type": "code",
      "source": [
        "print(x2)"
      ],
      "metadata": {
        "colab": {
          "base_uri": "https://localhost:8080/"
        },
        "id": "qfIH00LACqK4",
        "outputId": "0e9f7ea0-98c9-443f-e3f6-bcf15a73fe2f"
      },
      "execution_count": null,
      "outputs": [
        {
          "output_type": "stream",
          "name": "stdout",
          "text": [
            "[[1 2 3]\n",
            " [3 4 5]\n",
            " [5 6 7]]\n"
          ]
        }
      ]
    },
    {
      "cell_type": "markdown",
      "source": [
        "## Reshaping of Arrays\n",
        "\n",
        "Another useful type of operation is reshaping of arrays.\n",
        "The most flexible way of doing this is with the ``reshape`` method.\n",
        "For example, if you want to put the numbers 1 through 9 in a $3 \\times 3$ grid, you can do the following:"
      ],
      "metadata": {
        "id": "97C4tcIlDNKB"
      }
    },
    {
      "cell_type": "code",
      "source": [
        "grid = np.arange(1, 10).reshape((3, 3))\n",
        "print(grid)"
      ],
      "metadata": {
        "colab": {
          "base_uri": "https://localhost:8080/"
        },
        "id": "h45CcnnTESdN",
        "outputId": "5b3691a2-1111-4c78-aaf2-b2fbc571436b"
      },
      "execution_count": null,
      "outputs": [
        {
          "output_type": "stream",
          "name": "stdout",
          "text": [
            "[[1 2 3]\n",
            " [4 5 6]\n",
            " [7 8 9]]\n"
          ]
        }
      ]
    },
    {
      "cell_type": "markdown",
      "source": [
        ">**Note:** Note that for this to work, the size of the initial array must match the size of the reshaped array. Where possible, the reshape method will use a no-copy view of the initial array, but with non-contiguous memory buffers this is not always the case.\n",
        "\n",
        "Another common reshaping pattern is the conversion of a one-dimensional array into a two-dimensional row or column matrix. This can be done with the reshape method, or more easily done by making use of the newaxis keyword within a slice operation:"
      ],
      "metadata": {
        "id": "lrS4OT2dFoiM"
      }
    },
    {
      "cell_type": "code",
      "source": [
        "x = np.array([1, 2, 3])"
      ],
      "metadata": {
        "id": "pWIaqCxJFj23"
      },
      "execution_count": null,
      "outputs": []
    },
    {
      "cell_type": "code",
      "source": [
        "print(x)"
      ],
      "metadata": {
        "colab": {
          "base_uri": "https://localhost:8080/"
        },
        "id": "VrCv9QzmGOUU",
        "outputId": "6dc3ef25-636d-4195-e678-7c34a5552db2"
      },
      "execution_count": null,
      "outputs": [
        {
          "output_type": "stream",
          "name": "stdout",
          "text": [
            "[1 2 3]\n"
          ]
        }
      ]
    },
    {
      "cell_type": "code",
      "source": [
        "# row vector via reshape\n",
        "x1=x.reshape((1, 3))"
      ],
      "metadata": {
        "id": "bD6l5jqkF8Y2"
      },
      "execution_count": null,
      "outputs": []
    },
    {
      "cell_type": "code",
      "source": [
        "print(x1)"
      ],
      "metadata": {
        "colab": {
          "base_uri": "https://localhost:8080/"
        },
        "id": "WZGNZyEhGasX",
        "outputId": "a446591b-a4b3-42a8-d952-ca44ff81ac07"
      },
      "execution_count": null,
      "outputs": [
        {
          "output_type": "stream",
          "name": "stdout",
          "text": [
            "[[1 2 3]]\n"
          ]
        }
      ]
    },
    {
      "cell_type": "code",
      "source": [
        "# row vector via newaxis\n",
        "x[np.newaxis, :]"
      ],
      "metadata": {
        "colab": {
          "base_uri": "https://localhost:8080/"
        },
        "id": "4KvNRulZHJde",
        "outputId": "523ae939-3b20-4e4b-c067-8a22385bfa24"
      },
      "execution_count": null,
      "outputs": [
        {
          "output_type": "execute_result",
          "data": {
            "text/plain": [
              "array([[1, 2, 3]])"
            ]
          },
          "metadata": {},
          "execution_count": 22
        }
      ]
    },
    {
      "cell_type": "code",
      "source": [
        "# column vector via reshape\n",
        "x.reshape((3, 1))"
      ],
      "metadata": {
        "colab": {
          "base_uri": "https://localhost:8080/"
        },
        "id": "ocCvGGh1HWEp",
        "outputId": "dc850364-992e-4059-f51f-2de69f33ab9d"
      },
      "execution_count": null,
      "outputs": [
        {
          "output_type": "execute_result",
          "data": {
            "text/plain": [
              "array([[1],\n",
              "       [2],\n",
              "       [3]])"
            ]
          },
          "metadata": {},
          "execution_count": 23
        }
      ]
    },
    {
      "cell_type": "code",
      "source": [
        "# column vector via newaxis\n",
        "x[:, np.newaxis]"
      ],
      "metadata": {
        "colab": {
          "base_uri": "https://localhost:8080/"
        },
        "id": "ctnSZ_gEHimT",
        "outputId": "7724710c-141e-4fbe-d4e7-7b62cedab245"
      },
      "execution_count": null,
      "outputs": [
        {
          "output_type": "execute_result",
          "data": {
            "text/plain": [
              "array([[1],\n",
              "       [2],\n",
              "       [3]])"
            ]
          },
          "metadata": {},
          "execution_count": 24
        }
      ]
    },
    {
      "cell_type": "markdown",
      "source": [
        "## Array Concatenation and Splitting\n",
        "\n",
        "All of the preceding routines worked on single arrays. It's also possible to combine multiple arrays into one, and to conversely split a single array into multiple arrays. We'll take a look at those operations here."
      ],
      "metadata": {
        "id": "jAEGbA2sIhiO"
      }
    },
    {
      "cell_type": "markdown",
      "source": [
        "### Concatenation of arrays\n",
        "\n",
        "Concatenation, or joining of two arrays in NumPy, is primarily accomplished using the routines ``np.concatenate``, ``np.vstack``, and ``np.hstack``.\n",
        "``np.concatenate`` takes a tuple or list of arrays as its first argument, as we can see here:"
      ],
      "metadata": {
        "id": "5h9XqopdJBnB"
      }
    },
    {
      "cell_type": "code",
      "source": [
        "x = np.array([1, 2, 3])\n",
        "y = np.array([3, 2, 1])\n",
        "np.concatenate([x, y])"
      ],
      "metadata": {
        "colab": {
          "base_uri": "https://localhost:8080/"
        },
        "id": "gc9MTqBmI7ly",
        "outputId": "6fbee0e0-35c9-4da8-e67d-43f4f19d9ff3"
      },
      "execution_count": null,
      "outputs": [
        {
          "output_type": "execute_result",
          "data": {
            "text/plain": [
              "array([1, 2, 3, 3, 2, 1])"
            ]
          },
          "metadata": {},
          "execution_count": 29
        }
      ]
    },
    {
      "cell_type": "markdown",
      "source": [
        "You can also concatenate more than two arrays at once:"
      ],
      "metadata": {
        "id": "dEKF1B2fKGEB"
      }
    },
    {
      "cell_type": "code",
      "source": [
        "z = [99, 99, 99]\n",
        "print(np.concatenate([x, y, z]))"
      ],
      "metadata": {
        "colab": {
          "base_uri": "https://localhost:8080/"
        },
        "id": "ydMpHj7HKG8F",
        "outputId": "d1a4a6a0-7aeb-4a81-b685-04906329fdc2"
      },
      "execution_count": null,
      "outputs": [
        {
          "output_type": "stream",
          "name": "stdout",
          "text": [
            "[ 1  2  3  3  2  1 99 99 99]\n"
          ]
        }
      ]
    },
    {
      "cell_type": "markdown",
      "source": [
        "It can also be used for two-dimensional arrays:\n",
        "\n",
        "\n",
        "\n"
      ],
      "metadata": {
        "id": "Q26MDX5uLAko"
      }
    },
    {
      "cell_type": "code",
      "source": [
        "grid1 = np.array([[1, 2, 3],\n",
        "                 [4, 5, 6]])\n",
        "grid2=np.array([[5,5,5],[7,7,7]])"
      ],
      "metadata": {
        "id": "_Kpc31PyK9Y3"
      },
      "execution_count": null,
      "outputs": []
    },
    {
      "cell_type": "code",
      "source": [
        "# concatenate along the first axis\n",
        "np.concatenate([grid1, grid2])"
      ],
      "metadata": {
        "colab": {
          "base_uri": "https://localhost:8080/"
        },
        "id": "PkgvHpWxLGSG",
        "outputId": "48564b44-8bf3-43f5-b66d-d26dd7c85d1e"
      },
      "execution_count": null,
      "outputs": [
        {
          "output_type": "execute_result",
          "data": {
            "text/plain": [
              "array([[1, 2, 3],\n",
              "       [4, 5, 6],\n",
              "       [5, 5, 5],\n",
              "       [7, 7, 7]])"
            ]
          },
          "metadata": {},
          "execution_count": 32
        }
      ]
    },
    {
      "cell_type": "code",
      "source": [
        "# concatenate along the second axis (horrizontal) (zero-indexed)\n",
        "np.concatenate([grid1, grid2], axis=1)"
      ],
      "metadata": {
        "colab": {
          "base_uri": "https://localhost:8080/"
        },
        "id": "bUUyYbuWLuST",
        "outputId": "de1eefc7-90e8-4888-9c9a-17c0bae4a06a"
      },
      "execution_count": null,
      "outputs": [
        {
          "output_type": "execute_result",
          "data": {
            "text/plain": [
              "array([[1, 2, 3, 5, 5, 5],\n",
              "       [4, 5, 6, 7, 7, 7]])"
            ]
          },
          "metadata": {},
          "execution_count": 33
        }
      ]
    },
    {
      "cell_type": "markdown",
      "source": [
        "For working with arrays of mixed dimensions, it can be clearer to use the np.vstack (vertical stack) and np.hstack (horizontal stack) functions:"
      ],
      "metadata": {
        "id": "JGN1kDZ5NOjF"
      }
    },
    {
      "cell_type": "code",
      "source": [
        "x = np.array([1, 2, 3])\n",
        "grid = np.array([[9, 8, 7],\n",
        "                 [6, 5, 4]])\n",
        "\n",
        "# vertically stack the arrays\n",
        "np.vstack([x, grid])"
      ],
      "metadata": {
        "colab": {
          "base_uri": "https://localhost:8080/"
        },
        "id": "bNiXPxD9N1BN",
        "outputId": "ac644099-6927-4736-e377-af580df1f612"
      },
      "execution_count": null,
      "outputs": [
        {
          "output_type": "execute_result",
          "data": {
            "text/plain": [
              "array([[1, 2, 3],\n",
              "       [9, 8, 7],\n",
              "       [6, 5, 4]])"
            ]
          },
          "metadata": {},
          "execution_count": 34
        }
      ]
    },
    {
      "cell_type": "code",
      "source": [
        "# horizontally stack the arrays\n",
        "y = np.array([[99],\n",
        "              [99]])\n",
        "np.hstack([grid, y])"
      ],
      "metadata": {
        "id": "K-9yHDElN-Nz",
        "outputId": "065810d7-f478-4fae-b766-4acdfbfca4aa",
        "colab": {
          "base_uri": "https://localhost:8080/"
        }
      },
      "execution_count": null,
      "outputs": [
        {
          "output_type": "execute_result",
          "data": {
            "text/plain": [
              "array([[ 9,  8,  7, 99],\n",
              "       [ 6,  5,  4, 99]])"
            ]
          },
          "metadata": {},
          "execution_count": 35
        }
      ]
    },
    {
      "cell_type": "markdown",
      "source": [
        "## Splitting of arrays\n",
        "The opposite of concatenation is splitting, which is implemented by the functions ``np.split``, ``np.hsplit``, and ``np.vsplit``.  For each of these, we can pass a list of indices giving the split points:"
      ],
      "metadata": {
        "id": "b893C8YAA9uq"
      }
    },
    {
      "cell_type": "code",
      "source": [
        "x = [1, 2, 3, 99, 99, 3, 2, 1]"
      ],
      "metadata": {
        "id": "jkUqM60pBcs2"
      },
      "execution_count": null,
      "outputs": []
    },
    {
      "cell_type": "code",
      "source": [
        "import numpy as np # import numpy to use split function"
      ],
      "metadata": {
        "id": "dnf5ydNEBqbH"
      },
      "execution_count": null,
      "outputs": []
    },
    {
      "cell_type": "markdown",
      "source": [
        "> Now split the list into two sub lists at index 2"
      ],
      "metadata": {
        "id": "quG7sL_5DqvL"
      }
    },
    {
      "cell_type": "code",
      "source": [
        "x1,x2=np.split(x,[2])"
      ],
      "metadata": {
        "id": "NpyyjwKaCBnj"
      },
      "execution_count": null,
      "outputs": []
    },
    {
      "cell_type": "code",
      "source": [
        "print(x1,\"\\n\",x2)"
      ],
      "metadata": {
        "colab": {
          "base_uri": "https://localhost:8080/"
        },
        "id": "iYchy6BdCP-_",
        "outputId": "7398bd37-61d9-4d95-8c6b-a4d818fbeb4a"
      },
      "execution_count": null,
      "outputs": [
        {
          "output_type": "stream",
          "name": "stdout",
          "text": [
            "[1 2] \n",
            " [ 3 99 99  3  2  1]\n"
          ]
        }
      ]
    },
    {
      "cell_type": "markdown",
      "source": [
        ">**Notice:** that $N$ split-points, leads to $N + 1$ subarrays.\n",
        "\n",
        "The related functions ``np.hsplit`` and ``np.vsplit`` are similar:"
      ],
      "metadata": {
        "id": "j8aB5rweEMha"
      }
    },
    {
      "cell_type": "code",
      "source": [
        "grid = np.arange(16).reshape((4, 4))\n",
        "grid"
      ],
      "metadata": {
        "colab": {
          "base_uri": "https://localhost:8080/"
        },
        "id": "nUTk3H--Ejih",
        "outputId": "71cfcc8c-7fe6-4818-a0a0-41ea7133cb54"
      },
      "execution_count": null,
      "outputs": [
        {
          "output_type": "execute_result",
          "data": {
            "text/plain": [
              "array([[ 0,  1,  2,  3],\n",
              "       [ 4,  5,  6,  7],\n",
              "       [ 8,  9, 10, 11],\n",
              "       [12, 13, 14, 15]])"
            ]
          },
          "metadata": {},
          "execution_count": 8
        }
      ]
    },
    {
      "cell_type": "code",
      "source": [
        "upper, lower = np.vsplit(grid, [2])\n",
        "print(upper)\n",
        "print(lower)"
      ],
      "metadata": {
        "colab": {
          "base_uri": "https://localhost:8080/"
        },
        "id": "_ROUuZJTFQuX",
        "outputId": "e3d94e66-3f44-41f9-88fd-503299841ed8"
      },
      "execution_count": null,
      "outputs": [
        {
          "output_type": "stream",
          "name": "stdout",
          "text": [
            "[[0 1 2 3]\n",
            " [4 5 6 7]]\n",
            "[[ 8  9 10 11]\n",
            " [12 13 14 15]]\n"
          ]
        }
      ]
    },
    {
      "cell_type": "code",
      "source": [
        "grid"
      ],
      "metadata": {
        "colab": {
          "base_uri": "https://localhost:8080/"
        },
        "id": "I2IcHcZqGPfX",
        "outputId": "eac9f2d9-212f-4d6b-ee7f-1007aee1a7d0"
      },
      "execution_count": null,
      "outputs": [
        {
          "output_type": "execute_result",
          "data": {
            "text/plain": [
              "array([[ 0,  1,  2,  3],\n",
              "       [ 4,  5,  6,  7],\n",
              "       [ 8,  9, 10, 11],\n",
              "       [12, 13, 14, 15]])"
            ]
          },
          "metadata": {},
          "execution_count": 11
        }
      ]
    },
    {
      "cell_type": "code",
      "source": [
        "left, right = np.hsplit(grid, [2])\n",
        "print(\"Left array:\\n\",left,\"\\n Right array:\\n\",right)\n"
      ],
      "metadata": {
        "colab": {
          "base_uri": "https://localhost:8080/"
        },
        "id": "mRRxgPnYGN2A",
        "outputId": "d7850ed4-ba54-4936-e243-456638687415"
      },
      "execution_count": null,
      "outputs": [
        {
          "output_type": "stream",
          "name": "stdout",
          "text": [
            "Left array:\n",
            " [[ 0  1]\n",
            " [ 4  5]\n",
            " [ 8  9]\n",
            " [12 13]] \n",
            " Right array:\n",
            " [[ 2  3]\n",
            " [ 6  7]\n",
            " [10 11]\n",
            " [14 15]]\n"
          ]
        }
      ]
    },
    {
      "cell_type": "markdown",
      "source": [
        ">Task 1\n",
        "Create a matrix, $A$ using `numpy`  and find the covariance , $cov(A)$ using matrix operation."
      ],
      "metadata": {
        "id": "WzexxD6nisP0"
      }
    },
    {
      "cell_type": "code",
      "source": [
        "# creating a random matrix\n",
        "import numpy as np\n",
        "A=np.arange(16).reshape(4,4)\n",
        "A"
      ],
      "metadata": {
        "colab": {
          "base_uri": "https://localhost:8080/"
        },
        "id": "Lf-CLZyOjlkN",
        "outputId": "59800bb5-99bc-4722-8fcc-149740199ebb"
      },
      "execution_count": null,
      "outputs": [
        {
          "output_type": "execute_result",
          "data": {
            "text/plain": [
              "array([[ 0,  1,  2,  3],\n",
              "       [ 4,  5,  6,  7],\n",
              "       [ 8,  9, 10, 11],\n",
              "       [12, 13, 14, 15]])"
            ]
          },
          "metadata": {},
          "execution_count": 45
        }
      ]
    },
    {
      "cell_type": "markdown",
      "source": [
        "> Finding $A-\\bar{A}$"
      ],
      "metadata": {
        "id": "o1bN3gGzt60b"
      }
    },
    {
      "cell_type": "code",
      "source": [
        "A_bar=np.mean(A,axis=1) # calculating row-wise sum\n",
        "A_bar"
      ],
      "metadata": {
        "colab": {
          "base_uri": "https://localhost:8080/"
        },
        "id": "K18_ZlstmGrl",
        "outputId": "7e7d8ee1-e69c-41fb-e7ee-da547511e14f"
      },
      "execution_count": null,
      "outputs": [
        {
          "output_type": "execute_result",
          "data": {
            "text/plain": [
              "array([ 1.5,  5.5,  9.5, 13.5])"
            ]
          },
          "metadata": {},
          "execution_count": 101
        }
      ]
    },
    {
      "cell_type": "code",
      "source": [
        "# creating a matrix to get element by element subtraction\n",
        "np.outer(A_bar,np.ones(4))"
      ],
      "metadata": {
        "colab": {
          "base_uri": "https://localhost:8080/"
        },
        "id": "e-ag0O5S7uGS",
        "outputId": "ef7f0f70-6b65-43e7-cd87-2e509fb1b498"
      },
      "execution_count": null,
      "outputs": [
        {
          "output_type": "execute_result",
          "data": {
            "text/plain": [
              "array([[ 1.5,  1.5,  1.5,  1.5],\n",
              "       [ 5.5,  5.5,  5.5,  5.5],\n",
              "       [ 9.5,  9.5,  9.5,  9.5],\n",
              "       [13.5, 13.5, 13.5, 13.5]])"
            ]
          },
          "metadata": {},
          "execution_count": 82
        }
      ]
    },
    {
      "cell_type": "code",
      "source": [
        "# calculating A-A bar with outer product opertation\n",
        "(A-np.outer(A_bar,np.ones(4)))"
      ],
      "metadata": {
        "colab": {
          "base_uri": "https://localhost:8080/"
        },
        "id": "lZyKipg_sB4z",
        "outputId": "a56276c6-5c2a-44f6-dbe2-bf90f6b3cfeb"
      },
      "execution_count": null,
      "outputs": [
        {
          "output_type": "execute_result",
          "data": {
            "text/plain": [
              "array([[-1.5, -0.5,  0.5,  1.5],\n",
              "       [-1.5, -0.5,  0.5,  1.5],\n",
              "       [-1.5, -0.5,  0.5,  1.5],\n",
              "       [-1.5, -0.5,  0.5,  1.5]])"
            ]
          },
          "metadata": {},
          "execution_count": 78
        }
      ]
    },
    {
      "cell_type": "code",
      "source": [
        "#calculating A-A_bar using broadcasting\n",
        "X=A-np.mean(A,axis=1).reshape(4,1)"
      ],
      "metadata": {
        "id": "xUGmsMOv5JCu"
      },
      "execution_count": null,
      "outputs": []
    },
    {
      "cell_type": "code",
      "source": [
        "X"
      ],
      "metadata": {
        "colab": {
          "base_uri": "https://localhost:8080/"
        },
        "id": "R1YhnQ9u5sKF",
        "outputId": "6f81daf1-e4da-4e12-b981-88ae758b2480"
      },
      "execution_count": null,
      "outputs": [
        {
          "output_type": "execute_result",
          "data": {
            "text/plain": [
              "array([[-1.5, -0.5,  0.5,  1.5],\n",
              "       [-1.5, -0.5,  0.5,  1.5],\n",
              "       [-1.5, -0.5,  0.5,  1.5],\n",
              "       [-1.5, -0.5,  0.5,  1.5]])"
            ]
          },
          "metadata": {},
          "execution_count": 92
        }
      ]
    },
    {
      "cell_type": "code",
      "source": [
        "#mannualy calculating covariance\n",
        "CoV=(1/3)*np.dot(X,X.T)\n",
        "CoV"
      ],
      "metadata": {
        "colab": {
          "base_uri": "https://localhost:8080/"
        },
        "id": "3vew0r3tkP_6",
        "outputId": "029193d4-eda9-43e3-84b9-db1600f143fd"
      },
      "execution_count": null,
      "outputs": [
        {
          "output_type": "execute_result",
          "data": {
            "text/plain": [
              "array([[1.66666667, 1.66666667, 1.66666667, 1.66666667],\n",
              "       [1.66666667, 1.66666667, 1.66666667, 1.66666667],\n",
              "       [1.66666667, 1.66666667, 1.66666667, 1.66666667],\n",
              "       [1.66666667, 1.66666667, 1.66666667, 1.66666667]])"
            ]
          },
          "metadata": {},
          "execution_count": 100
        }
      ]
    },
    {
      "cell_type": "code",
      "source": [
        "#calculating covariance using numpy function\n",
        "np.cov(A)"
      ],
      "metadata": {
        "colab": {
          "base_uri": "https://localhost:8080/"
        },
        "id": "iqezjeIFlrEi",
        "outputId": "80dd2ff8-30f9-4935-f748-ab95b08a319b"
      },
      "execution_count": null,
      "outputs": [
        {
          "output_type": "execute_result",
          "data": {
            "text/plain": [
              "array([[1.66666667, 1.66666667, 1.66666667, 1.66666667],\n",
              "       [1.66666667, 1.66666667, 1.66666667, 1.66666667],\n",
              "       [1.66666667, 1.66666667, 1.66666667, 1.66666667],\n",
              "       [1.66666667, 1.66666667, 1.66666667, 1.66666667]])"
            ]
          },
          "metadata": {},
          "execution_count": 36
        }
      ]
    },
    {
      "cell_type": "code",
      "source": [
        "#comparing two ways of flattening a matrix using numpy\n",
        "A.reshape(-1)==A.reshape(16,)"
      ],
      "metadata": {
        "colab": {
          "base_uri": "https://localhost:8080/"
        },
        "id": "7SWpXSAyvAWU",
        "outputId": "47fd9f7b-28c7-4b14-ff30-bc3a4dc6c531"
      },
      "execution_count": null,
      "outputs": [
        {
          "output_type": "execute_result",
          "data": {
            "text/plain": [
              "array([ True,  True,  True,  True,  True,  True,  True,  True,  True,\n",
              "        True,  True,  True,  True,  True,  True,  True])"
            ]
          },
          "metadata": {},
          "execution_count": 39
        }
      ]
    }
  ],
  "metadata": {
    "colab": {
      "provenance": [],
      "authorship_tag": "ABX9TyNEkbliVQwWFtmbgDcoUkxL",
      "include_colab_link": true
    },
    "kernelspec": {
      "display_name": "Python 3",
      "name": "python3"
    },
    "language_info": {
      "name": "python"
    }
  },
  "nbformat": 4,
  "nbformat_minor": 0
}