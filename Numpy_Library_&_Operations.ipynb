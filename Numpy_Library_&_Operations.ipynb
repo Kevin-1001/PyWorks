{
  "cells": [
    {
      "cell_type": "markdown",
      "metadata": {
        "id": "view-in-github",
        "colab_type": "text"
      },
      "source": [
        "<a href=\"https://colab.research.google.com/github/Kevin-1001/PyWorks/blob/main/Numpy_Library_%26_Operations.ipynb\" target=\"_parent\"><img src=\"https://colab.research.google.com/assets/colab-badge.svg\" alt=\"Open In Colab\"/></a>"
      ]
    },
    {
      "cell_type": "markdown",
      "metadata": {
        "id": "yqwQV01-wzS5"
      },
      "source": [
        "## `Numpy`- Numerical Python\n",
        "\n",
        "> The python library for basic array operations.\n",
        "\n",
        "### Basics\n",
        "\n",
        "This section will present several examples of using NumPy array manipulation to access data and subarrays, and to split, reshape, and join the arrays.\n",
        "While the types of operations shown here may seem a bit dry and pedantic, they comprise the building blocks of many other examples used throughout the book.\n",
        "Get to know them well!\n",
        "\n",
        "We'll cover a few categories of basic array manipulations here:\n",
        "\n",
        "- *Attributes of arrays*: Determining the size, shape, memory consumption, and data types of arrays\n",
        "- *Indexing of arrays*: Getting and setting the value of individual array elements\n",
        "- *Slicing of arrays*: Getting and setting smaller subarrays within a larger array\n",
        "- *Reshaping of arrays*: Changing the shape of a given array\n",
        "- *Joining and splitting of arrays*: Combining multiple arrays into one, and splitting one array into many"
      ]
    },
    {
      "cell_type": "markdown",
      "metadata": {
        "id": "pLuCaty1x2vc"
      },
      "source": [
        "## `NumPy` Array Attributes\n",
        "\n",
        "First let's discuss some useful array attributes.\n",
        "\n",
        "We'll start by defining three random arrays, a one-dimensional, two-dimensional, and three-dimensional array.\n",
        "\n",
        "We'll use `NumPy`'s random number generator, which we will *seed* with a set value in order to ensure that the same random arrays are generated each time this code is run:"
      ]
    },
    {
      "cell_type": "markdown",
      "source": [
        "### Installing a library in collab\n",
        "\n",
        "```\n",
        "!pip install <library_name>\n",
        "```"
      ],
      "metadata": {
        "id": "jLmiyKrob1xH"
      }
    },
    {
      "cell_type": "code",
      "source": [
        "!pip install numpy # installing numpy"
      ],
      "metadata": {
        "colab": {
          "base_uri": "https://localhost:8080/"
        },
        "id": "TdwTKfRJcP81",
        "outputId": "0067cc72-74f2-42c6-e40e-dc05f2cbc53f"
      },
      "execution_count": 3,
      "outputs": [
        {
          "output_type": "stream",
          "name": "stdout",
          "text": [
            "Looking in indexes: https://pypi.org/simple, https://us-python.pkg.dev/colab-wheels/public/simple/\n",
            "Requirement already satisfied: numpy in /usr/local/lib/python3.10/dist-packages (1.22.4)\n"
          ]
        }
      ]
    },
    {
      "cell_type": "markdown",
      "metadata": {
        "id": "HSt0S2X6zf2X"
      },
      "source": [
        "### Loading `numpy` to a python programme\n",
        "\n",
        ">Syntax \n",
        "\n",
        "```\n",
        "import numpy as <<\"name of instance\">>\n",
        "\n",
        "```\n",
        "\n",
        "eg: ``` import numpy as np```"
      ]
    },
    {
      "cell_type": "code",
      "execution_count": 4,
      "metadata": {
        "id": "UwWDzgFq0MGY"
      },
      "outputs": [],
      "source": [
        "# Loading the library \n",
        "import numpy as np"
      ]
    },
    {
      "cell_type": "markdown",
      "metadata": {
        "id": "TSqZWeNh09k_"
      },
      "source": [
        "## Define different types of `numpy` arrays"
      ]
    },
    {
      "cell_type": "code",
      "execution_count": 41,
      "metadata": {
        "id": "vdOlq08z1DhC"
      },
      "outputs": [],
      "source": [
        "np.random.seed(0)  # seed for reproducibility - looses randomnes and gives constant values alway (no changes even among various devices)\n",
        "\n",
        "x1 = np.random.randint(10, size=6)  # One-dimensional array - 6 elements\n",
        "x2 = np.random.randint(10, size=(3, 4))  # Two-dimensional array - 3 rows and 4 coloumns\n",
        "x3 = np.random.randint(10, size=(3, 4, 5))  # Three-dimensional array - 3 groups , 4 rows and 5 coloumns"
      ]
    },
    {
      "cell_type": "code",
      "execution_count": 42,
      "metadata": {
        "colab": {
          "base_uri": "https://localhost:8080/"
        },
        "id": "siq1z0-s4JAv",
        "outputId": "cb3aa65d-f4a2-40c9-fbe8-abd0643c44dd"
      },
      "outputs": [
        {
          "output_type": "stream",
          "name": "stdout",
          "text": [
            "[5 0 3 3 7 9]\n"
          ]
        }
      ],
      "source": [
        "print(x1)"
      ]
    },
    {
      "cell_type": "code",
      "execution_count": 43,
      "metadata": {
        "colab": {
          "base_uri": "https://localhost:8080/"
        },
        "id": "KNOhd8Ln5ZSn",
        "outputId": "77bc9d19-6319-42e5-87fb-a7831619d00c"
      },
      "outputs": [
        {
          "output_type": "stream",
          "name": "stdout",
          "text": [
            "[[3 5 2 4]\n",
            " [7 6 8 8]\n",
            " [1 6 7 7]]\n"
          ]
        }
      ],
      "source": [
        "print(x2)"
      ]
    },
    {
      "cell_type": "code",
      "execution_count": 44,
      "metadata": {
        "colab": {
          "base_uri": "https://localhost:8080/"
        },
        "id": "PAcwUovk5jmT",
        "outputId": "552d3e7d-b22b-4c3a-b955-0553bb480518"
      },
      "outputs": [
        {
          "output_type": "stream",
          "name": "stdout",
          "text": [
            "[[[8 1 5 9 8]\n",
            "  [9 4 3 0 3]\n",
            "  [5 0 2 3 8]\n",
            "  [1 3 3 3 7]]\n",
            "\n",
            " [[0 1 9 9 0]\n",
            "  [4 7 3 2 7]\n",
            "  [2 0 0 4 5]\n",
            "  [5 6 8 4 1]]\n",
            "\n",
            " [[4 9 8 1 1]\n",
            "  [7 9 9 3 6]\n",
            "  [7 2 0 3 5]\n",
            "  [9 4 4 6 4]]]\n"
          ]
        }
      ],
      "source": [
        "print(x3)"
      ]
    },
    {
      "cell_type": "markdown",
      "metadata": {
        "id": "LTo1EKoS6onQ"
      },
      "source": [
        "## Attributes of arrays\n",
        "\n",
        "Each array has attributes ``ndim`` (the number of dimensions), ``shape`` (the size of each dimension), and ``size`` (the total size of the array):"
      ]
    },
    {
      "cell_type": "code",
      "execution_count": 49,
      "metadata": {
        "colab": {
          "base_uri": "https://localhost:8080/"
        },
        "id": "-OX61lTg68Ay",
        "outputId": "e2ccacff-413f-4cf4-ed60-05d7f5aa7df0"
      },
      "outputs": [
        {
          "output_type": "stream",
          "name": "stdout",
          "text": [
            "x1 ndim:  1\n",
            "x1 shape: (6,)\n",
            "x1 size:  6\n"
          ]
        }
      ],
      "source": [
        "# Attributes of array x1\n",
        "\n",
        "print(\"x1 ndim: \", x1.ndim)\n",
        "print(\"x1 shape:\", x1.shape)\n",
        "print(\"x1 size: \", x1.size)"
      ]
    },
    {
      "cell_type": "code",
      "source": [
        "# Attributes of array x2\n",
        "print(\"x2 ndim: \", x2.ndim)\n",
        "print(\"x2 shape:\", x2.shape)\n",
        "print(\"x2 size: \", x2.size)"
      ],
      "metadata": {
        "colab": {
          "base_uri": "https://localhost:8080/"
        },
        "id": "z_L30PIgfOi_",
        "outputId": "5f8107d7-b9f6-42a4-c041-b318eb80d0d9"
      },
      "execution_count": 50,
      "outputs": [
        {
          "output_type": "stream",
          "name": "stdout",
          "text": [
            "x2 ndim:  2\n",
            "x2 shape: (3, 4)\n",
            "x2 size:  12\n"
          ]
        }
      ]
    },
    {
      "cell_type": "code",
      "source": [
        "# Attributes of array x3\n",
        "print(\"x3 ndim: \", x3.ndim)\n",
        "print(\"x3 shape:\", x3.shape)\n",
        "print(\"x3 size: \", x3.size)"
      ],
      "metadata": {
        "colab": {
          "base_uri": "https://localhost:8080/"
        },
        "id": "coNYRDhmfO43",
        "outputId": "3ea60e74-9054-458a-e1cd-251503665cf3"
      },
      "execution_count": 51,
      "outputs": [
        {
          "output_type": "stream",
          "name": "stdout",
          "text": [
            "x3 ndim:  3\n",
            "x3 shape: (3, 4, 5)\n",
            "x3 size:  60\n"
          ]
        }
      ]
    },
    {
      "cell_type": "markdown",
      "metadata": {
        "id": "Lo6325_u7U01"
      },
      "source": [
        "Another useful attribute is the ``dtype``, the data type of the array"
      ]
    },
    {
      "cell_type": "code",
      "execution_count": null,
      "metadata": {
        "colab": {
          "base_uri": "https://localhost:8080/"
        },
        "id": "-Wre3ix_7c0I",
        "outputId": "84e02405-7964-45a2-f90f-82484fa0f14b"
      },
      "outputs": [
        {
          "name": "stdout",
          "output_type": "stream",
          "text": [
            "dtype: int64\n"
          ]
        }
      ],
      "source": [
        "print(\"dtype:\", x3.dtype)"
      ]
    },
    {
      "cell_type": "markdown",
      "metadata": {
        "id": "GOBBwyp97xGL"
      },
      "source": [
        "Other attributes include ``itemsize``, which lists the size (in bytes) of each array element, and ``nbytes``, which lists the total size (in bytes) of the array:"
      ]
    },
    {
      "cell_type": "code",
      "execution_count": 52,
      "metadata": {
        "colab": {
          "base_uri": "https://localhost:8080/"
        },
        "id": "L6x0NRff76Ah",
        "outputId": "4c08f862-722d-44a5-b6ff-f18742c63622"
      },
      "outputs": [
        {
          "output_type": "stream",
          "name": "stdout",
          "text": [
            "itemsize: 8 bytes\n",
            "nbytes: 480 bytes\n"
          ]
        }
      ],
      "source": [
        "print(\"itemsize:\", x3.itemsize, \"bytes\")\n",
        "print(\"nbytes:\", x3.nbytes, \"bytes\")"
      ]
    },
    {
      "cell_type": "markdown",
      "metadata": {
        "id": "QGV3yGPu8Phf"
      },
      "source": [
        "## Array Indexing: Accessing Single Elements\n",
        "If you are familiar with Python's standard list indexing, indexing in `NumPy` will feel quite familiar.\n",
        "In a one-dimensional array, the $i^{th}$ value (counting from zero) can be accessed by specifying the desired index in square brackets, just as with Python lists:"
      ]
    },
    {
      "cell_type": "code",
      "source": [
        "import numpy as np"
      ],
      "metadata": {
        "id": "fcEh2qVCD7dz"
      },
      "execution_count": 53,
      "outputs": []
    },
    {
      "cell_type": "code",
      "source": [
        "x1=np.array([8, 5, 4, 7,4,1])"
      ],
      "metadata": {
        "id": "06QZvBehEAc6"
      },
      "execution_count": 54,
      "outputs": []
    },
    {
      "cell_type": "code",
      "execution_count": 62,
      "metadata": {
        "colab": {
          "base_uri": "https://localhost:8080/"
        },
        "id": "AajJ84PZ88Uj",
        "outputId": "fde80961-55ed-4cb3-e4e1-66c724b9018b"
      },
      "outputs": [
        {
          "output_type": "execute_result",
          "data": {
            "text/plain": [
              "array([8, 5, 4, 7, 4, 1])"
            ]
          },
          "metadata": {},
          "execution_count": 62
        }
      ],
      "source": [
        "(x1) # shows the contents of the array x1"
      ]
    },
    {
      "cell_type": "code",
      "execution_count": 61,
      "metadata": {
        "colab": {
          "base_uri": "https://localhost:8080/"
        },
        "id": "fEO4mblY9UCw",
        "outputId": "ae6577e7-df8e-4a28-e278-6fc54771f982"
      },
      "outputs": [
        {
          "output_type": "execute_result",
          "data": {
            "text/plain": [
              "7"
            ]
          },
          "metadata": {},
          "execution_count": 61
        }
      ],
      "source": [
        "x1[3] # access the 4th element in the array x1"
      ]
    },
    {
      "cell_type": "code",
      "source": [
        "x1[-2] # accessing the 2nd element from last"
      ],
      "metadata": {
        "colab": {
          "base_uri": "https://localhost:8080/"
        },
        "id": "l2Ua7rnYEmKK",
        "outputId": "dd2b2781-4c9f-4976-e593-9cda776b4b8f"
      },
      "execution_count": 60,
      "outputs": [
        {
          "output_type": "execute_result",
          "data": {
            "text/plain": [
              "4"
            ]
          },
          "metadata": {},
          "execution_count": 60
        }
      ]
    },
    {
      "cell_type": "markdown",
      "metadata": {
        "id": "GluqTQ_-98ou"
      },
      "source": [
        ">Note:\n",
        "\n",
        "To index from the end of the array, you can use negative indices:"
      ]
    },
    {
      "cell_type": "code",
      "execution_count": 63,
      "metadata": {
        "colab": {
          "base_uri": "https://localhost:8080/"
        },
        "id": "V3NGu8Zd-AF7",
        "outputId": "739b9c7d-0c4e-45a1-9be2-0f8130af94f3"
      },
      "outputs": [
        {
          "output_type": "execute_result",
          "data": {
            "text/plain": [
              "array([8, 5, 4, 7, 4, 1])"
            ]
          },
          "metadata": {},
          "execution_count": 63
        }
      ],
      "source": [
        "x1"
      ]
    },
    {
      "cell_type": "code",
      "execution_count": 66,
      "metadata": {
        "id": "32GTQXNb-DTZ",
        "colab": {
          "base_uri": "https://localhost:8080/"
        },
        "outputId": "1c139bdb-a7d1-424c-e4e4-381aa645609e"
      },
      "outputs": [
        {
          "output_type": "execute_result",
          "data": {
            "text/plain": [
              "1"
            ]
          },
          "metadata": {},
          "execution_count": 66
        }
      ],
      "source": [
        "x1[-1] ## access the first element from last"
      ]
    },
    {
      "cell_type": "code",
      "execution_count": 65,
      "metadata": {
        "id": "o6QKa5KC-s44",
        "colab": {
          "base_uri": "https://localhost:8080/"
        },
        "outputId": "15f3fb0e-b374-4826-80d8-b497700fb22e"
      },
      "outputs": [
        {
          "output_type": "execute_result",
          "data": {
            "text/plain": [
              "4"
            ]
          },
          "metadata": {},
          "execution_count": 65
        }
      ],
      "source": [
        "x1[-2] ## access the second element from the last"
      ]
    },
    {
      "cell_type": "markdown",
      "metadata": {
        "id": "hoe_jcAg_Ftc"
      },
      "source": [
        ">In a multi-dimensional array, items can be accessed using a comma-separated tuple of indices:"
      ]
    },
    {
      "cell_type": "code",
      "source": [
        "x2=np.array([[3, 3, 9, 2],\n",
        "       [5, 2, 3, 5],\n",
        "       [7, 2, 7, 1]])"
      ],
      "metadata": {
        "id": "SmRXtpshFZpT"
      },
      "execution_count": 67,
      "outputs": []
    },
    {
      "cell_type": "code",
      "execution_count": 68,
      "metadata": {
        "colab": {
          "base_uri": "https://localhost:8080/"
        },
        "id": "9mEZH2p3_EzW",
        "outputId": "233a9556-5583-4de9-d4d3-f76f605c671b"
      },
      "outputs": [
        {
          "output_type": "stream",
          "name": "stdout",
          "text": [
            "[[3 3 9 2]\n",
            " [5 2 3 5]\n",
            " [7 2 7 1]]\n"
          ]
        }
      ],
      "source": [
        "print(x2)# list the 2-D array"
      ]
    },
    {
      "cell_type": "code",
      "execution_count": 69,
      "metadata": {
        "colab": {
          "base_uri": "https://localhost:8080/"
        },
        "id": "nOVUhEoyAEj0",
        "outputId": "ee6e113c-5e46-4721-d05c-2bebc66449d0"
      },
      "outputs": [
        {
          "output_type": "execute_result",
          "data": {
            "text/plain": [
              "9"
            ]
          },
          "metadata": {},
          "execution_count": 69
        }
      ],
      "source": [
        "x2[0, 2] ## access the element in first row and first column"
      ]
    },
    {
      "cell_type": "code",
      "execution_count": 70,
      "metadata": {
        "colab": {
          "base_uri": "https://localhost:8080/"
        },
        "id": "Wx5buubGATxJ",
        "outputId": "e751c028-9c83-42b3-829c-d09d6750f3ab"
      },
      "outputs": [
        {
          "output_type": "execute_result",
          "data": {
            "text/plain": [
              "1"
            ]
          },
          "metadata": {},
          "execution_count": 70
        }
      ],
      "source": [
        "x2[2, -1] ## access the element in the 3rd row and last column"
      ]
    },
    {
      "cell_type": "markdown",
      "metadata": {
        "id": "cPl1wwx5A799"
      },
      "source": [
        "Values can also be modified using any of the above index notation:"
      ]
    },
    {
      "cell_type": "code",
      "execution_count": 71,
      "metadata": {
        "id": "YeeyQeYYBAZ0"
      },
      "outputs": [],
      "source": [
        "x2[0, 0]=20 ## replace the 3rd row last column element of x2 by 20"
      ]
    },
    {
      "cell_type": "code",
      "execution_count": 72,
      "metadata": {
        "colab": {
          "base_uri": "https://localhost:8080/"
        },
        "id": "14k0nZopBIIe",
        "outputId": "8f1445de-2ae8-469d-8cb4-e874a409ee5a"
      },
      "outputs": [
        {
          "output_type": "execute_result",
          "data": {
            "text/plain": [
              "array([[20,  3,  9,  2],\n",
              "       [ 5,  2,  3,  5],\n",
              "       [ 7,  2,  7,  1]])"
            ]
          },
          "metadata": {},
          "execution_count": 72
        }
      ],
      "source": [
        "x2 ## display updated x2"
      ]
    },
    {
      "cell_type": "markdown",
      "metadata": {
        "id": "20wiuamXCBMW"
      },
      "source": [
        "> Keep in mind that, unlike Python lists, NumPy arrays have a fixed type.\n",
        "This means, for example, that if you attempt to insert a floating-point value to an integer array, the value will be silently truncated. Don't be caught unaware by this behavior!"
      ]
    },
    {
      "cell_type": "code",
      "execution_count": 73,
      "metadata": {
        "colab": {
          "base_uri": "https://localhost:8080/"
        },
        "id": "JTVbOXVLCMdv",
        "outputId": "bdabed77-8c91-4d91-f588-839a1e05b6ca"
      },
      "outputs": [
        {
          "output_type": "execute_result",
          "data": {
            "text/plain": [
              "array([8, 5, 4, 7, 4, 1])"
            ]
          },
          "metadata": {},
          "execution_count": 73
        }
      ],
      "source": [
        "## to show contents of the array x1\n",
        "x1"
      ]
    },
    {
      "cell_type": "code",
      "source": [
        "type(x1) # Display the type of conrst ofmx1"
      ],
      "metadata": {
        "colab": {
          "base_uri": "https://localhost:8080/"
        },
        "id": "2w5c0RtAIfLD",
        "outputId": "835ffe36-831d-48c4-ca02-0a6ee5acd1cb"
      },
      "execution_count": 75,
      "outputs": [
        {
          "output_type": "execute_result",
          "data": {
            "text/plain": [
              "numpy.ndarray"
            ]
          },
          "metadata": {},
          "execution_count": 75
        }
      ]
    },
    {
      "cell_type": "code",
      "source": [
        "x1.dtype"
      ],
      "metadata": {
        "colab": {
          "base_uri": "https://localhost:8080/"
        },
        "id": "FzErFwIhnZry",
        "outputId": "e6b2e669-1b10-4a66-cbdc-36b51b0f0429"
      },
      "execution_count": 76,
      "outputs": [
        {
          "output_type": "execute_result",
          "data": {
            "text/plain": [
              "dtype('int64')"
            ]
          },
          "metadata": {},
          "execution_count": 76
        }
      ]
    },
    {
      "cell_type": "code",
      "execution_count": 77,
      "metadata": {
        "colab": {
          "base_uri": "https://localhost:8080/"
        },
        "id": "qf-cPo9vCLF3",
        "outputId": "69f8745b-bdd7-4fe5-8e7b-0f3f73e6daeb"
      },
      "outputs": [
        {
          "output_type": "execute_result",
          "data": {
            "text/plain": [
              "array([3, 5, 4, 7, 4, 1])"
            ]
          },
          "metadata": {},
          "execution_count": 77
        }
      ],
      "source": [
        "## repalce first value of x1 with 3.14195\n",
        "x1[0] = 3.14159  # this will be truncated!\n",
        "x1"
      ]
    },
    {
      "cell_type": "markdown",
      "metadata": {
        "id": "r4QuhUKMEWxx"
      },
      "source": [
        "## Array Slicing: Accessing Subarrays\n",
        "\n",
        "Just as we can use square brackets to access individual array elements, we can also use them to access subarrays with the *slice* notation, marked by the colon (``:``) character.\n",
        "The NumPy slicing syntax follows that of the standard Python list; to access a slice of an array ``x``, use this:\n",
        "``` python\n",
        "x[start:stop:step]\n",
        "```\n",
        "If any of these are unspecified, they default to the values ``start=0``, ``stop=``*``size of dimension``*, ``step=1``.\n",
        "We'll take a look at accessing sub-arrays in one dimension and in multiple dimensions."
      ]
    },
    {
      "cell_type": "markdown",
      "metadata": {
        "id": "HBqgBz4pEzYg"
      },
      "source": [
        "### One-dimensional subarrays"
      ]
    },
    {
      "cell_type": "code",
      "execution_count": 78,
      "metadata": {
        "colab": {
          "base_uri": "https://localhost:8080/"
        },
        "id": "gtC10YeSEx_g",
        "outputId": "91a5d218-c4ec-4f0b-dd2f-479d7e5ae88f"
      },
      "outputs": [
        {
          "output_type": "execute_result",
          "data": {
            "text/plain": [
              "array([0, 1, 2, 3, 4, 5, 6, 7, 8, 9])"
            ]
          },
          "metadata": {},
          "execution_count": 78
        }
      ],
      "source": [
        "x = np.arange(0,10)\n",
        "x"
      ]
    },
    {
      "cell_type": "code",
      "execution_count": 79,
      "metadata": {
        "colab": {
          "base_uri": "https://localhost:8080/"
        },
        "id": "Pj4eRXObFOvk",
        "outputId": "147fc4ea-be0b-4c4c-b62d-e2f89e431a6d"
      },
      "outputs": [
        {
          "output_type": "execute_result",
          "data": {
            "text/plain": [
              "array([1, 2, 3, 4, 5])"
            ]
          },
          "metadata": {},
          "execution_count": 79
        }
      ],
      "source": [
        "x[1:6]  # first five elements"
      ]
    },
    {
      "cell_type": "code",
      "execution_count": 80,
      "metadata": {
        "colab": {
          "base_uri": "https://localhost:8080/"
        },
        "id": "qVEy0KbGEVfX",
        "outputId": "cb720657-235d-4daf-cdb8-725cbe979d36"
      },
      "outputs": [
        {
          "output_type": "execute_result",
          "data": {
            "text/plain": [
              "array([5, 6, 7, 8, 9])"
            ]
          },
          "metadata": {},
          "execution_count": 80
        }
      ],
      "source": [
        "x[5:]  # elements after index 5"
      ]
    },
    {
      "cell_type": "code",
      "execution_count": 81,
      "metadata": {
        "colab": {
          "base_uri": "https://localhost:8080/"
        },
        "id": "XfbhkotXF3k8",
        "outputId": "a498a61b-3003-4271-ebeb-adb982d9aa29"
      },
      "outputs": [
        {
          "output_type": "execute_result",
          "data": {
            "text/plain": [
              "array([4, 5, 6])"
            ]
          },
          "metadata": {},
          "execution_count": 81
        }
      ],
      "source": [
        "x[4:7]  # middle sub-array"
      ]
    },
    {
      "cell_type": "code",
      "execution_count": 82,
      "metadata": {
        "id": "_sOQ2HU7GF3q",
        "colab": {
          "base_uri": "https://localhost:8080/"
        },
        "outputId": "f2600923-6eb2-44ae-c2e2-0f65d5c7b9ea"
      },
      "outputs": [
        {
          "output_type": "execute_result",
          "data": {
            "text/plain": [
              "array([0, 1, 2, 3, 4, 5, 6, 7, 8, 9])"
            ]
          },
          "metadata": {},
          "execution_count": 82
        }
      ],
      "source": [
        "x"
      ]
    },
    {
      "cell_type": "code",
      "execution_count": 83,
      "metadata": {
        "colab": {
          "base_uri": "https://localhost:8080/"
        },
        "id": "8lUg3rBUGEXU",
        "outputId": "c76ce61d-d5c8-4039-b386-284ccaa81d87"
      },
      "outputs": [
        {
          "output_type": "execute_result",
          "data": {
            "text/plain": [
              "array([0, 2, 4, 6, 8])"
            ]
          },
          "metadata": {},
          "execution_count": 83
        }
      ],
      "source": [
        "x[::2]  # every other element with step 2 (alternate elements)"
      ]
    },
    {
      "cell_type": "markdown",
      "source": [
        "## Reading a 2-D array or matrix in `numpy`\n",
        "\n",
        "```{python}\n",
        "name_of_array=np.array([[row1],[row2],[row3]])\n",
        "```"
      ],
      "metadata": {
        "id": "vGTRRSDP3NN2"
      }
    },
    {
      "cell_type": "code",
      "source": [
        "import numpy as np"
      ],
      "metadata": {
        "id": "Dn-XEyCO4DtJ"
      },
      "execution_count": 85,
      "outputs": []
    },
    {
      "cell_type": "code",
      "source": [
        "marks=np.array([[1, 2 ,3],[2 ,3 ,4],[5,6,7]])"
      ],
      "metadata": {
        "id": "bH1yH_SI3kZi"
      },
      "execution_count": 86,
      "outputs": []
    },
    {
      "cell_type": "code",
      "source": [
        "print(marks)"
      ],
      "metadata": {
        "colab": {
          "base_uri": "https://localhost:8080/"
        },
        "id": "YwMfJ_W34UBw",
        "outputId": "55bea259-3bbb-4e8f-f73f-d4a562d9b57e"
      },
      "execution_count": 87,
      "outputs": [
        {
          "output_type": "stream",
          "name": "stdout",
          "text": [
            "[[1 2 3]\n",
            " [2 3 4]\n",
            " [5 6 7]]\n"
          ]
        }
      ]
    },
    {
      "cell_type": "code",
      "source": [
        "C1=(marks[:,0]) # assign all elements in the first column to a new variable C1"
      ],
      "metadata": {
        "id": "qRL9pSY86CKo"
      },
      "execution_count": 88,
      "outputs": []
    },
    {
      "cell_type": "code",
      "source": [
        "print(C1) # display content of C1"
      ],
      "metadata": {
        "colab": {
          "base_uri": "https://localhost:8080/"
        },
        "id": "nXtwzgXa7YMR",
        "outputId": "7ec84f0f-bf5e-4cda-90f9-68b34be59938"
      },
      "execution_count": 89,
      "outputs": [
        {
          "output_type": "stream",
          "name": "stdout",
          "text": [
            "[1 2 5]\n"
          ]
        }
      ]
    },
    {
      "cell_type": "code",
      "source": [
        "type(C1)"
      ],
      "metadata": {
        "colab": {
          "base_uri": "https://localhost:8080/"
        },
        "id": "ODGf1evHpYbU",
        "outputId": "4a160679-0527-4c19-f3b2-ba60e1e83609"
      },
      "execution_count": 90,
      "outputs": [
        {
          "output_type": "execute_result",
          "data": {
            "text/plain": [
              "numpy.ndarray"
            ]
          },
          "metadata": {},
          "execution_count": 90
        }
      ]
    },
    {
      "cell_type": "code",
      "source": [
        "marks[0,:]"
      ],
      "metadata": {
        "colab": {
          "base_uri": "https://localhost:8080/"
        },
        "id": "T6jzk0P7LhX5",
        "outputId": "054272dc-2b01-479f-bc5c-8887af8620c8"
      },
      "execution_count": 91,
      "outputs": [
        {
          "output_type": "execute_result",
          "data": {
            "text/plain": [
              "array([1, 2, 3])"
            ]
          },
          "metadata": {},
          "execution_count": 91
        }
      ]
    },
    {
      "cell_type": "code",
      "source": [
        "print(C1)"
      ],
      "metadata": {
        "colab": {
          "base_uri": "https://localhost:8080/"
        },
        "id": "SxwsSAc8ppH3",
        "outputId": "7cac3e2b-4af3-4cc0-a7d4-3c6531a4608b"
      },
      "execution_count": 92,
      "outputs": [
        {
          "output_type": "stream",
          "name": "stdout",
          "text": [
            "[1 2 5]\n"
          ]
        }
      ]
    },
    {
      "cell_type": "code",
      "source": [
        "C2=C1.reshape(3,1)# reshape the list C1 into a 3X1 matrix"
      ],
      "metadata": {
        "id": "701_PeVn6jAM"
      },
      "execution_count": 93,
      "outputs": []
    },
    {
      "cell_type": "code",
      "source": [
        "(C2)"
      ],
      "metadata": {
        "colab": {
          "base_uri": "https://localhost:8080/"
        },
        "id": "UdiesN9A7U3D",
        "outputId": "f8951776-f7c6-482a-80ea-f9ef1a34f928"
      },
      "execution_count": 94,
      "outputs": [
        {
          "output_type": "execute_result",
          "data": {
            "text/plain": [
              "array([[1],\n",
              "       [2],\n",
              "       [5]])"
            ]
          },
          "metadata": {},
          "execution_count": 94
        }
      ]
    },
    {
      "cell_type": "markdown",
      "source": [
        ">**Task 1:** Create a $5\\times 10$ matrix from single digit values randomly. Then flaten the matrix into a column vector."
      ],
      "metadata": {
        "id": "CNXL3BwNqDwW"
      }
    },
    {
      "cell_type": "code",
      "source": [
        "M=np.random.randint(10,size=(5,10))\n"
      ],
      "metadata": {
        "id": "z4RSGmE4rCKV"
      },
      "execution_count": 96,
      "outputs": []
    },
    {
      "cell_type": "code",
      "source": [
        "print(M)"
      ],
      "metadata": {
        "colab": {
          "base_uri": "https://localhost:8080/"
        },
        "id": "-M68kryjrMII",
        "outputId": "3d522c74-9373-41e8-9080-3794cec2c067"
      },
      "execution_count": 97,
      "outputs": [
        {
          "output_type": "stream",
          "name": "stdout",
          "text": [
            "[[4 3 4 4 8 4 3 7 5 5]\n",
            " [0 1 5 9 3 0 5 0 1 2]\n",
            " [4 2 0 3 2 0 7 5 9 0]\n",
            " [2 7 2 9 2 3 3 2 3 4]\n",
            " [1 2 9 1 4 6 8 2 3 0]]\n"
          ]
        }
      ]
    },
    {
      "cell_type": "code",
      "source": [
        "# Transpose\n",
        "# M.reshape(10,5)\n",
        "M.T"
      ],
      "metadata": {
        "colab": {
          "base_uri": "https://localhost:8080/"
        },
        "id": "rwjKNHRYrPUh",
        "outputId": "c1b9a92f-e07e-4985-f5c8-2b16cd5fa8d7"
      },
      "execution_count": 103,
      "outputs": [
        {
          "output_type": "execute_result",
          "data": {
            "text/plain": [
              "array([[4, 0, 4, 2, 1],\n",
              "       [3, 1, 2, 7, 2],\n",
              "       [4, 5, 0, 2, 9],\n",
              "       [4, 9, 3, 9, 1],\n",
              "       [8, 3, 2, 2, 4],\n",
              "       [4, 0, 0, 3, 6],\n",
              "       [3, 5, 7, 3, 8],\n",
              "       [7, 0, 5, 2, 2],\n",
              "       [5, 1, 9, 3, 3],\n",
              "       [5, 2, 0, 4, 0]])"
            ]
          },
          "metadata": {},
          "execution_count": 103
        }
      ]
    },
    {
      "cell_type": "markdown",
      "source": [
        ">**Flattening a matrix:**  Coverting a matrix into a colum vector."
      ],
      "metadata": {
        "id": "-o5jjbsyNFUd"
      }
    },
    {
      "cell_type": "code",
      "source": [
        "FM=marks.reshape(9,1)"
      ],
      "metadata": {
        "id": "nibQTtjKNSHZ"
      },
      "execution_count": 101,
      "outputs": []
    },
    {
      "cell_type": "code",
      "source": [
        "FM"
      ],
      "metadata": {
        "colab": {
          "base_uri": "https://localhost:8080/"
        },
        "id": "ImWfw3CSNaoh",
        "outputId": "517943fb-4f2d-4c9b-e2e1-f144337d0579"
      },
      "execution_count": 102,
      "outputs": [
        {
          "output_type": "execute_result",
          "data": {
            "text/plain": [
              "array([[1],\n",
              "       [2],\n",
              "       [3],\n",
              "       [2],\n",
              "       [3],\n",
              "       [4],\n",
              "       [5],\n",
              "       [6],\n",
              "       [7]])"
            ]
          },
          "metadata": {},
          "execution_count": 102
        }
      ]
    },
    {
      "cell_type": "markdown",
      "source": [
        "### Multi-dimensional subarrays (slicing)\n",
        "\n",
        "Multi-dimensional slices work in the same way, with multiple slices separated by commas.\n",
        "For example:"
      ],
      "metadata": {
        "id": "5W1IgqVb8oha"
      }
    },
    {
      "cell_type": "code",
      "source": [
        "# creating a two dimensional array\n",
        "x2=np.array([[1,2,3],[3,4,5],[5,6,7]])"
      ],
      "metadata": {
        "id": "QC5iuvQk81M1"
      },
      "execution_count": null,
      "outputs": []
    },
    {
      "cell_type": "code",
      "source": [
        "print(x2)"
      ],
      "metadata": {
        "colab": {
          "base_uri": "https://localhost:8080/"
        },
        "id": "hx98xYRP9bvi",
        "outputId": "48d4cc19-267b-4513-dc64-c68630a73742"
      },
      "execution_count": null,
      "outputs": [
        {
          "output_type": "stream",
          "name": "stdout",
          "text": [
            "[[1 2 3]\n",
            " [3 4 5]\n",
            " [5 6 7]]\n"
          ]
        }
      ]
    },
    {
      "cell_type": "code",
      "source": [
        "# selecting first and last rows and Second column from x2\n",
        "# :3:2 =>all rows from 0 to 2 but with an interval of 2 (1st and 3rd rows)\n",
        "# 1:2 =>coloumns from 1 to less than 2 => second coloumn\n",
        "print(x2[:3:2,1:2])    "
      ],
      "metadata": {
        "colab": {
          "base_uri": "https://localhost:8080/"
        },
        "id": "9F2egHmj-6fz",
        "outputId": "98034881-12e1-4206-82dc-d873cab9aa18"
      },
      "execution_count": null,
      "outputs": [
        {
          "output_type": "stream",
          "name": "stdout",
          "text": [
            "[[2]\n",
            " [6]]\n"
          ]
        }
      ]
    },
    {
      "cell_type": "code",
      "source": [
        "print(x2[:3:2,:3:2]) # slice alternate elements in first three rows and first three columns"
      ],
      "metadata": {
        "colab": {
          "base_uri": "https://localhost:8080/"
        },
        "id": "RlvJz5-F_QJI",
        "outputId": "732aa2b3-c0ae-4deb-ba78-b6910d963825"
      },
      "execution_count": null,
      "outputs": [
        {
          "output_type": "stream",
          "name": "stdout",
          "text": [
            "[[1 3]\n",
            " [5 7]]\n"
          ]
        }
      ]
    },
    {
      "cell_type": "markdown",
      "source": [
        ">**Note:** Accessing array rows and columns\n",
        "\n",
        "One commonly needed routine is accessing of single rows or columns of an array.\n",
        "This can be done by combining indexing and slicing, using an empty slice marked by a single colon (``:``):"
      ],
      "metadata": {
        "id": "XycjLR9SACSH"
      }
    },
    {
      "cell_type": "markdown",
      "source": [
        ">For example *all the elements* in first column can be accessed as:"
      ],
      "metadata": {
        "id": "PF6bXZzLAO3I"
      }
    },
    {
      "cell_type": "code",
      "source": [
        "print(x2[:, 0])  # first column of x2"
      ],
      "metadata": {
        "colab": {
          "base_uri": "https://localhost:8080/"
        },
        "id": "PMSIOyfwABY1",
        "outputId": "b17f1a0d-e196-4eb0-f429-fe49d27343d6"
      },
      "execution_count": null,
      "outputs": [
        {
          "output_type": "stream",
          "name": "stdout",
          "text": [
            "[1 3 5]\n"
          ]
        }
      ]
    },
    {
      "cell_type": "markdown",
      "source": [
        "### Creating copies of arrays\n",
        "\n",
        "Despite the nice features of array views, it is sometimes useful to instead explicitly copy the data within an array or a subarray. This can be most easily done with the ``copy()`` method:"
      ],
      "metadata": {
        "id": "D2BNtPstBDBw"
      }
    },
    {
      "cell_type": "code",
      "source": [
        "x2"
      ],
      "metadata": {
        "colab": {
          "base_uri": "https://localhost:8080/"
        },
        "id": "Qxhhg438t_n_",
        "outputId": "bf6dbd42-4f7b-4c6c-eab1-1470c311af72"
      },
      "execution_count": null,
      "outputs": [
        {
          "output_type": "execute_result",
          "data": {
            "text/plain": [
              "array([[1, 2, 3],\n",
              "       [3, 4, 5],\n",
              "       [5, 6, 7]])"
            ]
          },
          "metadata": {},
          "execution_count": 49
        }
      ]
    },
    {
      "cell_type": "code",
      "source": [
        "# create a copy of subarray and store it with the new name\n",
        "x2_sub_copy = x2[:2, :2].copy()\n",
        "print(x2_sub_copy)"
      ],
      "metadata": {
        "colab": {
          "base_uri": "https://localhost:8080/"
        },
        "id": "jb93hDmgAffv",
        "outputId": "ea8202cf-8310-4205-b8f2-968e79a5efe6"
      },
      "execution_count": null,
      "outputs": [
        {
          "output_type": "stream",
          "name": "stdout",
          "text": [
            "[[1 2]\n",
            " [3 4]]\n"
          ]
        }
      ]
    },
    {
      "cell_type": "markdown",
      "source": [
        "If we now modify this subarray, the original array is not touched:"
      ],
      "metadata": {
        "id": "0kpDKdMaCggE"
      }
    },
    {
      "cell_type": "code",
      "source": [
        "x2_sub_copy[0, 0] = 42\n",
        "print(x2_sub_copy)"
      ],
      "metadata": {
        "colab": {
          "base_uri": "https://localhost:8080/"
        },
        "id": "xzrDdcleAfcN",
        "outputId": "c249b4c2-dea4-4f59-f363-10542f1c54ed"
      },
      "execution_count": null,
      "outputs": [
        {
          "output_type": "stream",
          "name": "stdout",
          "text": [
            "[[42  2]\n",
            " [ 3  4]]\n"
          ]
        }
      ]
    },
    {
      "cell_type": "code",
      "source": [
        "print(x2)"
      ],
      "metadata": {
        "colab": {
          "base_uri": "https://localhost:8080/"
        },
        "id": "qfIH00LACqK4",
        "outputId": "32494f28-e2fd-40d5-e29d-efda4ccc36f6"
      },
      "execution_count": null,
      "outputs": [
        {
          "output_type": "stream",
          "name": "stdout",
          "text": [
            "[[1 2 3]\n",
            " [3 4 5]\n",
            " [5 6 7]]\n"
          ]
        }
      ]
    },
    {
      "cell_type": "markdown",
      "source": [
        "## Reshaping of Arrays\n",
        "\n",
        "Another useful type of operation is reshaping of arrays.\n",
        "The most flexible way of doing this is with the ``reshape`` method.\n",
        "For example, if you want to put the numbers 1 through 9 in a $3 \\times 3$ grid, you can do the following:"
      ],
      "metadata": {
        "id": "97C4tcIlDNKB"
      }
    },
    {
      "cell_type": "code",
      "source": [
        "np.arange(1, 10)"
      ],
      "metadata": {
        "colab": {
          "base_uri": "https://localhost:8080/"
        },
        "id": "jmlUtMulQvdq",
        "outputId": "532138bf-eb25-4dcf-976a-0dc5edb84c7e"
      },
      "execution_count": null,
      "outputs": [
        {
          "output_type": "execute_result",
          "data": {
            "text/plain": [
              "array([1, 2, 3, 4, 5, 6, 7, 8, 9])"
            ]
          },
          "metadata": {},
          "execution_count": 49
        }
      ]
    },
    {
      "cell_type": "code",
      "source": [
        "grid = np.arange(1, 10).reshape((9, 1))\n",
        "print(grid)"
      ],
      "metadata": {
        "colab": {
          "base_uri": "https://localhost:8080/"
        },
        "id": "h45CcnnTESdN",
        "outputId": "9b25ef08-0b6f-4182-90eb-ed62f8ec029b"
      },
      "execution_count": null,
      "outputs": [
        {
          "output_type": "stream",
          "name": "stdout",
          "text": [
            "[[1]\n",
            " [2]\n",
            " [3]\n",
            " [4]\n",
            " [5]\n",
            " [6]\n",
            " [7]\n",
            " [8]\n",
            " [9]]\n"
          ]
        }
      ]
    },
    {
      "cell_type": "markdown",
      "source": [
        ">**Note:** Note that for this to work, the size of the initial array must match the size of the reshaped array. Where possible, the reshape method will use a no-copy view of the initial array, but with non-contiguous memory buffers this is not always the case.\n",
        "\n",
        "Another common reshaping pattern is the conversion of a one-dimensional array into a two-dimensional row or column matrix. This can be done with the reshape method, or more easily done by making use of the newaxis keyword within a slice operation:"
      ],
      "metadata": {
        "id": "lrS4OT2dFoiM"
      }
    },
    {
      "cell_type": "code",
      "source": [
        "x = np.array([1, 2, 3])"
      ],
      "metadata": {
        "id": "pWIaqCxJFj23"
      },
      "execution_count": null,
      "outputs": []
    },
    {
      "cell_type": "code",
      "source": [
        "print(x)"
      ],
      "metadata": {
        "colab": {
          "base_uri": "https://localhost:8080/"
        },
        "id": "VrCv9QzmGOUU",
        "outputId": "00550842-42f5-45c9-8c30-22b51ffabeea"
      },
      "execution_count": null,
      "outputs": [
        {
          "output_type": "stream",
          "name": "stdout",
          "text": [
            "[1 2 3]\n"
          ]
        }
      ]
    },
    {
      "cell_type": "code",
      "source": [
        "x.shape"
      ],
      "metadata": {
        "colab": {
          "base_uri": "https://localhost:8080/"
        },
        "id": "Sm4xZP3fzw0J",
        "outputId": "fb233e69-0d25-4b82-bba3-24954157fee9"
      },
      "execution_count": null,
      "outputs": [
        {
          "output_type": "execute_result",
          "data": {
            "text/plain": [
              "(3,)"
            ]
          },
          "metadata": {},
          "execution_count": 56
        }
      ]
    },
    {
      "cell_type": "code",
      "source": [
        "# row vector via reshape\n",
        "x1=x.reshape((1, 3))"
      ],
      "metadata": {
        "id": "bD6l5jqkF8Y2"
      },
      "execution_count": null,
      "outputs": []
    },
    {
      "cell_type": "code",
      "source": [
        "x1.shape"
      ],
      "metadata": {
        "colab": {
          "base_uri": "https://localhost:8080/"
        },
        "id": "f-pCW1y8z7Ue",
        "outputId": "3c40f73b-51c1-40c5-ee7d-c1d26ab95ad4"
      },
      "execution_count": null,
      "outputs": [
        {
          "output_type": "execute_result",
          "data": {
            "text/plain": [
              "(1, 3)"
            ]
          },
          "metadata": {},
          "execution_count": 57
        }
      ]
    },
    {
      "cell_type": "code",
      "source": [
        "print(x1)"
      ],
      "metadata": {
        "colab": {
          "base_uri": "https://localhost:8080/"
        },
        "id": "WZGNZyEhGasX",
        "outputId": "932cf9e5-9171-4610-ae5e-3720f590f70e"
      },
      "execution_count": null,
      "outputs": [
        {
          "output_type": "stream",
          "name": "stdout",
          "text": [
            "[[1 2 3]]\n"
          ]
        }
      ]
    },
    {
      "cell_type": "code",
      "source": [
        "x"
      ],
      "metadata": {
        "colab": {
          "base_uri": "https://localhost:8080/"
        },
        "id": "U74DtESr0KNl",
        "outputId": "ed933acb-8a62-4a0c-e518-a05d74b3a7ed"
      },
      "execution_count": null,
      "outputs": [
        {
          "output_type": "execute_result",
          "data": {
            "text/plain": [
              "array([1, 2, 3])"
            ]
          },
          "metadata": {},
          "execution_count": 58
        }
      ]
    },
    {
      "cell_type": "code",
      "source": [
        "# row vector via newaxis\n",
        "x[np.newaxis, :]"
      ],
      "metadata": {
        "colab": {
          "base_uri": "https://localhost:8080/"
        },
        "id": "4KvNRulZHJde",
        "outputId": "83275647-c279-4d6b-e8e2-b324bc5cfc6a"
      },
      "execution_count": null,
      "outputs": [
        {
          "output_type": "execute_result",
          "data": {
            "text/plain": [
              "array([[1, 2, 3]])"
            ]
          },
          "metadata": {},
          "execution_count": 59
        }
      ]
    },
    {
      "cell_type": "code",
      "source": [
        "# column vector via reshape\n",
        "x.reshape((3, 1))"
      ],
      "metadata": {
        "colab": {
          "base_uri": "https://localhost:8080/"
        },
        "id": "ocCvGGh1HWEp",
        "outputId": "bdec0c96-36db-4c77-8aed-b2217d6a8ffd"
      },
      "execution_count": null,
      "outputs": [
        {
          "output_type": "execute_result",
          "data": {
            "text/plain": [
              "array([[1],\n",
              "       [2],\n",
              "       [3]])"
            ]
          },
          "metadata": {},
          "execution_count": 58
        }
      ]
    },
    {
      "cell_type": "code",
      "source": [
        "# column vector via newaxis\n",
        "x[:, np.newaxis]"
      ],
      "metadata": {
        "colab": {
          "base_uri": "https://localhost:8080/"
        },
        "id": "ctnSZ_gEHimT",
        "outputId": "05185870-7016-45e7-9c6a-01835bfc15c7"
      },
      "execution_count": null,
      "outputs": [
        {
          "output_type": "execute_result",
          "data": {
            "text/plain": [
              "array([[1],\n",
              "       [2],\n",
              "       [3]])"
            ]
          },
          "metadata": {},
          "execution_count": 60
        }
      ]
    },
    {
      "cell_type": "markdown",
      "source": [
        "## Array Concatenation and Splitting\n",
        "\n",
        "All of the preceding routines worked on single arrays. It's also possible to combine multiple arrays into one, and to conversely split a single array into multiple arrays. We'll take a look at those operations here."
      ],
      "metadata": {
        "id": "jAEGbA2sIhiO"
      }
    },
    {
      "cell_type": "markdown",
      "source": [
        "### Concatenation of arrays\n",
        "\n",
        "Concatenation, or joining of two arrays in NumPy, is primarily accomplished using the routines ``np.concatenate``, ``np.vstack``, and ``np.hstack``.\n",
        "``np.concatenate`` takes a tuple or list of arrays as its first argument, as we can see here:"
      ],
      "metadata": {
        "id": "5h9XqopdJBnB"
      }
    },
    {
      "cell_type": "code",
      "source": [
        "x = np.array([1, 2, 3])\n",
        "y = np.array([3, 2, 1])\n",
        "np.concatenate([x, y])"
      ],
      "metadata": {
        "colab": {
          "base_uri": "https://localhost:8080/"
        },
        "id": "gc9MTqBmI7ly",
        "outputId": "59c5cc8b-0e58-48df-d77e-68482d4e770f"
      },
      "execution_count": null,
      "outputs": [
        {
          "output_type": "execute_result",
          "data": {
            "text/plain": [
              "array([1, 2, 3, 3, 2, 1])"
            ]
          },
          "metadata": {},
          "execution_count": 61
        }
      ]
    },
    {
      "cell_type": "code",
      "source": [
        "np.concatenate([y, y,y])"
      ],
      "metadata": {
        "colab": {
          "base_uri": "https://localhost:8080/"
        },
        "id": "W_DdYQ1vSluG",
        "outputId": "21ef2695-f89e-4064-e7e3-d01161934f85"
      },
      "execution_count": null,
      "outputs": [
        {
          "output_type": "execute_result",
          "data": {
            "text/plain": [
              "array([3, 2, 1, 3, 2, 1, 3, 2, 1])"
            ]
          },
          "metadata": {},
          "execution_count": 62
        }
      ]
    },
    {
      "cell_type": "markdown",
      "source": [
        "You can also concatenate more than two arrays at once:"
      ],
      "metadata": {
        "id": "dEKF1B2fKGEB"
      }
    },
    {
      "cell_type": "code",
      "source": [
        "z = [99, 99, 99]\n",
        "print(np.concatenate([x, y, z]))"
      ],
      "metadata": {
        "colab": {
          "base_uri": "https://localhost:8080/"
        },
        "id": "ydMpHj7HKG8F",
        "outputId": "33480bfb-cba3-4c45-8209-cf2514a4be51"
      },
      "execution_count": null,
      "outputs": [
        {
          "output_type": "stream",
          "name": "stdout",
          "text": [
            "[ 1  2  3  3  2  1 99 99 99]\n"
          ]
        }
      ]
    },
    {
      "cell_type": "markdown",
      "source": [
        "It can also be used for two-dimensional arrays:\n",
        "\n",
        "\n",
        "\n"
      ],
      "metadata": {
        "id": "Q26MDX5uLAko"
      }
    },
    {
      "cell_type": "code",
      "source": [
        "grid1 = np.array([[1, 2, 3],\n",
        "                 [4, 5, 6]])\n",
        "grid2=np.array([[5,5,5],[7,7,7]])"
      ],
      "metadata": {
        "id": "_Kpc31PyK9Y3"
      },
      "execution_count": null,
      "outputs": []
    },
    {
      "cell_type": "code",
      "source": [
        "# concatenate along the first axis\n",
        "nm=np.concatenate([grid1, grid2],axis=0)"
      ],
      "metadata": {
        "id": "PkgvHpWxLGSG"
      },
      "execution_count": null,
      "outputs": []
    },
    {
      "cell_type": "code",
      "source": [
        "nm.shape"
      ],
      "metadata": {
        "colab": {
          "base_uri": "https://localhost:8080/"
        },
        "id": "pMoXZwYo2q_f",
        "outputId": "e715e650-7080-4e53-9751-08ce7fb2aa56"
      },
      "execution_count": null,
      "outputs": [
        {
          "output_type": "execute_result",
          "data": {
            "text/plain": [
              "(2, 6)"
            ]
          },
          "metadata": {},
          "execution_count": 68
        }
      ]
    },
    {
      "cell_type": "code",
      "source": [
        "# concatenate along the second axis (horrizontal) (zero-indexed)\n",
        "np.concatenate([grid1, grid2], axis=1)"
      ],
      "metadata": {
        "colab": {
          "base_uri": "https://localhost:8080/"
        },
        "id": "bUUyYbuWLuST",
        "outputId": "f345fd09-6fa0-4da4-c702-55719acbaa3a"
      },
      "execution_count": null,
      "outputs": [
        {
          "output_type": "execute_result",
          "data": {
            "text/plain": [
              "array([[1, 2, 3, 5, 5, 5],\n",
              "       [4, 5, 6, 7, 7, 7]])"
            ]
          },
          "metadata": {},
          "execution_count": 69
        }
      ]
    },
    {
      "cell_type": "markdown",
      "source": [
        "For working with arrays of mixed dimensions, it can be clearer to use the np.vstack (vertical stack) and np.hstack (horizontal stack) functions:"
      ],
      "metadata": {
        "id": "JGN1kDZ5NOjF"
      }
    },
    {
      "cell_type": "code",
      "source": [
        "x = np.array([1, 2, 3])\n",
        "grid = np.array([[9, 8, 7],\n",
        "                 [6, 5, 4]])\n",
        "\n",
        "# vertically stack the arrays\n",
        "grid"
      ],
      "metadata": {
        "colab": {
          "base_uri": "https://localhost:8080/"
        },
        "id": "bNiXPxD9N1BN",
        "outputId": "f1b09faa-9e4d-4abc-bb1a-8e9ae469ba5f"
      },
      "execution_count": null,
      "outputs": [
        {
          "output_type": "execute_result",
          "data": {
            "text/plain": [
              "array([[9, 8, 7],\n",
              "       [6, 5, 4]])"
            ]
          },
          "metadata": {},
          "execution_count": 71
        }
      ]
    },
    {
      "cell_type": "code",
      "source": [
        "grid2=np.vstack([grid,x])"
      ],
      "metadata": {
        "id": "lHyCmo8cURpH"
      },
      "execution_count": null,
      "outputs": []
    },
    {
      "cell_type": "code",
      "source": [
        "grid2"
      ],
      "metadata": {
        "colab": {
          "base_uri": "https://localhost:8080/"
        },
        "id": "x3WZRn_S4fk0",
        "outputId": "7c86df49-09a5-4800-e1d0-19e7fa21887b"
      },
      "execution_count": null,
      "outputs": [
        {
          "output_type": "execute_result",
          "data": {
            "text/plain": [
              "array([[9, 8, 7],\n",
              "       [6, 5, 4],\n",
              "       [1, 2, 3]])"
            ]
          },
          "metadata": {},
          "execution_count": 79
        }
      ]
    },
    {
      "cell_type": "code",
      "source": [
        "# horizontally stack the arrays\n",
        "y = np.array([[99],\n",
        "              [99],[3]])\n"
      ],
      "metadata": {
        "id": "K-9yHDElN-Nz"
      },
      "execution_count": null,
      "outputs": []
    },
    {
      "cell_type": "code",
      "source": [
        "grid2"
      ],
      "metadata": {
        "colab": {
          "base_uri": "https://localhost:8080/"
        },
        "id": "t3DN7ubH4R5V",
        "outputId": "f6bb1325-84c6-4990-db7a-a25a0d2e2a02"
      },
      "execution_count": null,
      "outputs": [
        {
          "output_type": "execute_result",
          "data": {
            "text/plain": [
              "array([[9, 8, 7],\n",
              "       [6, 5, 4],\n",
              "       [1, 2, 3]])"
            ]
          },
          "metadata": {},
          "execution_count": 80
        }
      ]
    },
    {
      "cell_type": "code",
      "source": [
        "np.hstack([grid2, y])"
      ],
      "metadata": {
        "colab": {
          "base_uri": "https://localhost:8080/"
        },
        "id": "vACzou8cVckH",
        "outputId": "83a378ce-e504-40b1-b3bc-19348bc179bc"
      },
      "execution_count": null,
      "outputs": [
        {
          "output_type": "execute_result",
          "data": {
            "text/plain": [
              "array([[ 9,  8,  7, 99],\n",
              "       [ 6,  5,  4, 99],\n",
              "       [ 1,  2,  3,  3]])"
            ]
          },
          "metadata": {},
          "execution_count": 81
        }
      ]
    },
    {
      "cell_type": "markdown",
      "source": [
        "## Splitting of arrays\n",
        "The opposite of concatenation is splitting, which is implemented by the functions ``np.split``, ``np.hsplit``, and ``np.vsplit``.  For each of these, we can pass a list of indices giving the split points:"
      ],
      "metadata": {
        "id": "b893C8YAA9uq"
      }
    },
    {
      "cell_type": "code",
      "source": [
        "x = [1, 2, 3, 99, 99, 3, 2, 1]"
      ],
      "metadata": {
        "id": "jkUqM60pBcs2"
      },
      "execution_count": null,
      "outputs": []
    },
    {
      "cell_type": "code",
      "source": [
        "import numpy as np # import numpy to use split function"
      ],
      "metadata": {
        "id": "dnf5ydNEBqbH"
      },
      "execution_count": null,
      "outputs": []
    },
    {
      "cell_type": "markdown",
      "source": [
        "> Now split the list into two sub lists at index 2"
      ],
      "metadata": {
        "id": "quG7sL_5DqvL"
      }
    },
    {
      "cell_type": "code",
      "source": [
        "x1,x2,x3=np.split(x,[2,4])"
      ],
      "metadata": {
        "id": "NpyyjwKaCBnj"
      },
      "execution_count": null,
      "outputs": []
    },
    {
      "cell_type": "code",
      "source": [
        "x"
      ],
      "metadata": {
        "colab": {
          "base_uri": "https://localhost:8080/"
        },
        "id": "tfs9wKhh541o",
        "outputId": "b2c07de0-19a7-4c01-95af-20e057ee0d85"
      },
      "execution_count": null,
      "outputs": [
        {
          "output_type": "execute_result",
          "data": {
            "text/plain": [
              "[1, 2, 3, 99, 99, 3, 2, 1]"
            ]
          },
          "metadata": {},
          "execution_count": 89
        }
      ]
    },
    {
      "cell_type": "code",
      "source": [
        "print(x1,\"\\n\",x2,'\\n',x3)"
      ],
      "metadata": {
        "colab": {
          "base_uri": "https://localhost:8080/"
        },
        "id": "iYchy6BdCP-_",
        "outputId": "8ffe07c9-8ecc-46b0-c666-577dded533c0"
      },
      "execution_count": null,
      "outputs": [
        {
          "output_type": "stream",
          "name": "stdout",
          "text": [
            "[1 2] \n",
            " [ 3 99] \n",
            " [99  3  2  1]\n"
          ]
        }
      ]
    },
    {
      "cell_type": "markdown",
      "source": [
        ">**Notice:** that $N$ split-points, leads to $N + 1$ subarrays.\n",
        "\n",
        "The related functions ``np.hsplit`` and ``np.vsplit`` are similar:"
      ],
      "metadata": {
        "id": "j8aB5rweEMha"
      }
    },
    {
      "cell_type": "code",
      "source": [
        "grid = np.arange(16).reshape((4, 4))\n",
        "grid"
      ],
      "metadata": {
        "colab": {
          "base_uri": "https://localhost:8080/"
        },
        "id": "nUTk3H--Ejih",
        "outputId": "d4d31a14-5a2a-408d-f3bf-7d036366dc10"
      },
      "execution_count": null,
      "outputs": [
        {
          "output_type": "execute_result",
          "data": {
            "text/plain": [
              "array([[ 0,  1,  2,  3],\n",
              "       [ 4,  5,  6,  7],\n",
              "       [ 8,  9, 10, 11],\n",
              "       [12, 13, 14, 15]])"
            ]
          },
          "metadata": {},
          "execution_count": 91
        }
      ]
    },
    {
      "cell_type": "code",
      "source": [
        "upper, lower = np.vsplit(grid, [2])\n",
        "print(upper)\n",
        "print(lower)"
      ],
      "metadata": {
        "colab": {
          "base_uri": "https://localhost:8080/"
        },
        "id": "_ROUuZJTFQuX",
        "outputId": "dd90146e-57c8-4c27-edd9-075b0d6f5656"
      },
      "execution_count": null,
      "outputs": [
        {
          "output_type": "stream",
          "name": "stdout",
          "text": [
            "[[0 1 2 3]\n",
            " [4 5 6 7]]\n",
            "[[ 8  9 10 11]\n",
            " [12 13 14 15]]\n"
          ]
        }
      ]
    },
    {
      "cell_type": "code",
      "source": [
        "grid"
      ],
      "metadata": {
        "colab": {
          "base_uri": "https://localhost:8080/"
        },
        "id": "I2IcHcZqGPfX",
        "outputId": "6eae53c3-9446-45bb-a8dd-4b5f9c97805f"
      },
      "execution_count": null,
      "outputs": [
        {
          "output_type": "execute_result",
          "data": {
            "text/plain": [
              "array([[ 0,  1,  2,  3],\n",
              "       [ 4,  5,  6,  7],\n",
              "       [ 8,  9, 10, 11],\n",
              "       [12, 13, 14, 15]])"
            ]
          },
          "metadata": {},
          "execution_count": 93
        }
      ]
    },
    {
      "cell_type": "code",
      "source": [
        "left, right = np.hsplit(grid, [2])\n",
        "print(\"Left array:\\n\",left,\"\\n Right array:\\n\",right)\n"
      ],
      "metadata": {
        "colab": {
          "base_uri": "https://localhost:8080/"
        },
        "id": "mRRxgPnYGN2A",
        "outputId": "67d79515-8749-42d5-bd50-e5615e900eed"
      },
      "execution_count": null,
      "outputs": [
        {
          "output_type": "stream",
          "name": "stdout",
          "text": [
            "Left array:\n",
            " [[ 0  1]\n",
            " [ 4  5]\n",
            " [ 8  9]\n",
            " [12 13]] \n",
            " Right array:\n",
            " [[ 2  3]\n",
            " [ 6  7]\n",
            " [10 11]\n",
            " [14 15]]\n"
          ]
        }
      ]
    },
    {
      "cell_type": "markdown",
      "source": [
        "## Some important `numpy` function"
      ],
      "metadata": {
        "id": "iPYQOpBFPwOP"
      }
    },
    {
      "cell_type": "code",
      "source": [
        "np.eye(3) #identity matrix\n"
      ],
      "metadata": {
        "colab": {
          "base_uri": "https://localhost:8080/"
        },
        "id": "w8JwjCEQP00N",
        "outputId": "d871ab28-0ae2-44bb-a3e7-ea7bb6ae6fe3"
      },
      "execution_count": null,
      "outputs": [
        {
          "output_type": "execute_result",
          "data": {
            "text/plain": [
              "array([[1., 0., 0.],\n",
              "       [0., 1., 0.],\n",
              "       [0., 0., 1.]])"
            ]
          },
          "metadata": {},
          "execution_count": 98
        }
      ]
    },
    {
      "cell_type": "code",
      "source": [
        "np.ones((2,2)) # one matrix"
      ],
      "metadata": {
        "colab": {
          "base_uri": "https://localhost:8080/"
        },
        "id": "nVkOrAfVQF8N",
        "outputId": "4b41c981-4074-4401-ea1f-1c9c25a9ba2c"
      },
      "execution_count": null,
      "outputs": [
        {
          "output_type": "execute_result",
          "data": {
            "text/plain": [
              "array([[1., 1.],\n",
              "       [1., 1.]])"
            ]
          },
          "metadata": {},
          "execution_count": 6
        }
      ]
    },
    {
      "cell_type": "code",
      "source": [
        "np.zeros((3,4))"
      ],
      "metadata": {
        "colab": {
          "base_uri": "https://localhost:8080/"
        },
        "id": "R6gpawhcQN7m",
        "outputId": "151677c9-b3ad-4d99-950c-c950ea6c2e13"
      },
      "execution_count": null,
      "outputs": [
        {
          "output_type": "execute_result",
          "data": {
            "text/plain": [
              "array([[0., 0., 0., 0.],\n",
              "       [0., 0., 0., 0.],\n",
              "       [0., 0., 0., 0.]])"
            ]
          },
          "metadata": {},
          "execution_count": 99
        }
      ]
    },
    {
      "cell_type": "code",
      "source": [
        "np.diag([1,2,3]) #creating a diagonal matrix"
      ],
      "metadata": {
        "colab": {
          "base_uri": "https://localhost:8080/"
        },
        "id": "nPPB890xQVaT",
        "outputId": "6d2a469d-6151-4b97-c027-529fa06bafe9"
      },
      "execution_count": null,
      "outputs": [
        {
          "output_type": "execute_result",
          "data": {
            "text/plain": [
              "array([[ 0, -1, -1],\n",
              "       [-1,  1, -1],\n",
              "       [-1, -1,  2]])"
            ]
          },
          "metadata": {},
          "execution_count": 10
        }
      ]
    },
    {
      "cell_type": "code",
      "source": [
        "np.diag(np.array([1,2,3])-1) # creating A-\\lambda I"
      ],
      "metadata": {
        "colab": {
          "base_uri": "https://localhost:8080/"
        },
        "id": "iX-vbP5JQm8O",
        "outputId": "4193ebc7-7b94-4623-eab2-c3de0d2d0571"
      },
      "execution_count": null,
      "outputs": [
        {
          "output_type": "execute_result",
          "data": {
            "text/plain": [
              "array([[0, 0, 0],\n",
              "       [0, 1, 0],\n",
              "       [0, 0, 2]])"
            ]
          },
          "metadata": {},
          "execution_count": 12
        }
      ]
    },
    {
      "cell_type": "code",
      "source": [
        "np.diag([1,2,3])**2 # element-wise squaring"
      ],
      "metadata": {
        "colab": {
          "base_uri": "https://localhost:8080/"
        },
        "id": "TpvBrpYKRAiO",
        "outputId": "5f37e3e5-74e8-4fc6-dd01-3aa1b4fc7cc4"
      },
      "execution_count": null,
      "outputs": [
        {
          "output_type": "execute_result",
          "data": {
            "text/plain": [
              "array([[1, 0, 0],\n",
              "       [0, 4, 0],\n",
              "       [0, 0, 9]])"
            ]
          },
          "metadata": {},
          "execution_count": 13
        }
      ]
    },
    {
      "cell_type": "markdown",
      "source": [
        ">**Task:** Create a $3\\times 3$ matrix containing first 9 non-zero integres and find $A-3 I$ with `numpy` array operations."
      ],
      "metadata": {
        "id": "S50PAgohRPJ-"
      }
    },
    {
      "cell_type": "markdown",
      "source": [
        ">Task 1\n",
        "Create a matrix, $A$ using `numpy`  and find the covariance , $cov(A)$ using matrix operation."
      ],
      "metadata": {
        "id": "WzexxD6nisP0"
      }
    },
    {
      "cell_type": "code",
      "source": [
        "# creating a random matrix\n",
        "import numpy as np\n",
        "A=np.arange(16).reshape(4,4)\n",
        "A"
      ],
      "metadata": {
        "colab": {
          "base_uri": "https://localhost:8080/"
        },
        "id": "Lf-CLZyOjlkN",
        "outputId": "db452770-37e6-47fe-dbbe-1e4681d3b66b"
      },
      "execution_count": null,
      "outputs": [
        {
          "output_type": "execute_result",
          "data": {
            "text/plain": [
              "array([[ 0,  1,  2,  3],\n",
              "       [ 4,  5,  6,  7],\n",
              "       [ 8,  9, 10, 11],\n",
              "       [12, 13, 14, 15]])"
            ]
          },
          "metadata": {},
          "execution_count": 101
        }
      ]
    },
    {
      "cell_type": "markdown",
      "source": [
        "> Finding $A-\\bar{A}$"
      ],
      "metadata": {
        "id": "o1bN3gGzt60b"
      }
    },
    {
      "cell_type": "code",
      "source": [
        "A_bar=np.mean(A,axis=1) # calculating row-wise sum\n",
        "A_bar"
      ],
      "metadata": {
        "colab": {
          "base_uri": "https://localhost:8080/"
        },
        "id": "K18_ZlstmGrl",
        "outputId": "95973f2e-1bb9-4334-95d9-b87e80a5eb24"
      },
      "execution_count": null,
      "outputs": [
        {
          "output_type": "execute_result",
          "data": {
            "text/plain": [
              "array([ 1.5,  5.5,  9.5, 13.5])"
            ]
          },
          "metadata": {},
          "execution_count": 103
        }
      ]
    },
    {
      "cell_type": "code",
      "source": [
        "# creating a matrix to get element by element subtraction\n",
        "np.outer(A_bar,np.ones(4))"
      ],
      "metadata": {
        "colab": {
          "base_uri": "https://localhost:8080/"
        },
        "id": "e-ag0O5S7uGS",
        "outputId": "4f6bcc9c-1b45-475d-c16b-39e757a65e04"
      },
      "execution_count": null,
      "outputs": [
        {
          "output_type": "execute_result",
          "data": {
            "text/plain": [
              "array([[ 1.5,  1.5,  1.5,  1.5],\n",
              "       [ 5.5,  5.5,  5.5,  5.5],\n",
              "       [ 9.5,  9.5,  9.5,  9.5],\n",
              "       [13.5, 13.5, 13.5, 13.5]])"
            ]
          },
          "metadata": {},
          "execution_count": 89
        }
      ]
    },
    {
      "cell_type": "code",
      "source": [
        "# calculating A-A bar with outer product opertation\n",
        "(A-np.outer(A_bar,np.ones(4)))"
      ],
      "metadata": {
        "colab": {
          "base_uri": "https://localhost:8080/"
        },
        "id": "lZyKipg_sB4z",
        "outputId": "a56276c6-5c2a-44f6-dbe2-bf90f6b3cfeb"
      },
      "execution_count": null,
      "outputs": [
        {
          "output_type": "execute_result",
          "data": {
            "text/plain": [
              "array([[-1.5, -0.5,  0.5,  1.5],\n",
              "       [-1.5, -0.5,  0.5,  1.5],\n",
              "       [-1.5, -0.5,  0.5,  1.5],\n",
              "       [-1.5, -0.5,  0.5,  1.5]])"
            ]
          },
          "metadata": {},
          "execution_count": 78
        }
      ]
    },
    {
      "cell_type": "code",
      "source": [
        "#calculating A-A_bar using broadcasting\n",
        "X=A-np.mean(A,axis=1).reshape(4,1)"
      ],
      "metadata": {
        "id": "xUGmsMOv5JCu"
      },
      "execution_count": null,
      "outputs": []
    },
    {
      "cell_type": "code",
      "source": [
        "X"
      ],
      "metadata": {
        "colab": {
          "base_uri": "https://localhost:8080/"
        },
        "id": "R1YhnQ9u5sKF",
        "outputId": "6f81daf1-e4da-4e12-b981-88ae758b2480"
      },
      "execution_count": null,
      "outputs": [
        {
          "output_type": "execute_result",
          "data": {
            "text/plain": [
              "array([[-1.5, -0.5,  0.5,  1.5],\n",
              "       [-1.5, -0.5,  0.5,  1.5],\n",
              "       [-1.5, -0.5,  0.5,  1.5],\n",
              "       [-1.5, -0.5,  0.5,  1.5]])"
            ]
          },
          "metadata": {},
          "execution_count": 92
        }
      ]
    },
    {
      "cell_type": "code",
      "source": [
        "#mannualy calculating covariance\n",
        "CoV=(1/3)*np.dot(X,X.T)\n",
        "CoV"
      ],
      "metadata": {
        "colab": {
          "base_uri": "https://localhost:8080/"
        },
        "id": "3vew0r3tkP_6",
        "outputId": "029193d4-eda9-43e3-84b9-db1600f143fd"
      },
      "execution_count": null,
      "outputs": [
        {
          "output_type": "execute_result",
          "data": {
            "text/plain": [
              "array([[1.66666667, 1.66666667, 1.66666667, 1.66666667],\n",
              "       [1.66666667, 1.66666667, 1.66666667, 1.66666667],\n",
              "       [1.66666667, 1.66666667, 1.66666667, 1.66666667],\n",
              "       [1.66666667, 1.66666667, 1.66666667, 1.66666667]])"
            ]
          },
          "metadata": {},
          "execution_count": 100
        }
      ]
    },
    {
      "cell_type": "code",
      "source": [
        "#calculating covariance using numpy function\n",
        "np.cov(A)"
      ],
      "metadata": {
        "colab": {
          "base_uri": "https://localhost:8080/"
        },
        "id": "iqezjeIFlrEi",
        "outputId": "80dd2ff8-30f9-4935-f748-ab95b08a319b"
      },
      "execution_count": null,
      "outputs": [
        {
          "output_type": "execute_result",
          "data": {
            "text/plain": [
              "array([[1.66666667, 1.66666667, 1.66666667, 1.66666667],\n",
              "       [1.66666667, 1.66666667, 1.66666667, 1.66666667],\n",
              "       [1.66666667, 1.66666667, 1.66666667, 1.66666667],\n",
              "       [1.66666667, 1.66666667, 1.66666667, 1.66666667]])"
            ]
          },
          "metadata": {},
          "execution_count": 36
        }
      ]
    },
    {
      "cell_type": "code",
      "source": [
        "#comparing two ways of flattening a matrix using numpy\n",
        "A.reshape(-1)==A.reshape(16,)"
      ],
      "metadata": {
        "colab": {
          "base_uri": "https://localhost:8080/"
        },
        "id": "7SWpXSAyvAWU",
        "outputId": "47fd9f7b-28c7-4b14-ff30-bc3a4dc6c531"
      },
      "execution_count": null,
      "outputs": [
        {
          "output_type": "execute_result",
          "data": {
            "text/plain": [
              "array([ True,  True,  True,  True,  True,  True,  True,  True,  True,\n",
              "        True,  True,  True,  True,  True,  True,  True])"
            ]
          },
          "metadata": {},
          "execution_count": 39
        }
      ]
    }
  ],
  "metadata": {
    "colab": {
      "provenance": [],
      "include_colab_link": true
    },
    "kernelspec": {
      "display_name": "Python 3",
      "name": "python3"
    },
    "language_info": {
      "name": "python"
    }
  },
  "nbformat": 4,
  "nbformat_minor": 0
}