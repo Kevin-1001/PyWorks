{
  "nbformat": 4,
  "nbformat_minor": 0,
  "metadata": {
    "colab": {
      "provenance": [],
      "authorship_tag": "ABX9TyNioePQ3CC2e1Bqhmh5Dpwa",
      "include_colab_link": true
    },
    "kernelspec": {
      "name": "python3",
      "display_name": "Python 3"
    },
    "language_info": {
      "name": "python"
    }
  },
  "cells": [
    {
      "cell_type": "markdown",
      "metadata": {
        "id": "view-in-github",
        "colab_type": "text"
      },
      "source": [
        "<a href=\"https://colab.research.google.com/github/sijuswamy/PyWorks/blob/main/Introduction_to_Python.ipynb\" target=\"_parent\"><img src=\"https://colab.research.google.com/assets/colab-badge.svg\" alt=\"Open In Colab\"/></a>"
      ]
    },
    {
      "cell_type": "markdown",
      "source": [
        ">**Lesson Outcome**\n",
        "\n",
        "Upon successful completion of this session the participants will be able to:\n",
        "\n",
        "1. understand the advantages of learning `python` for Statistical analysis"
      ],
      "metadata": {
        "id": "RvE3xLRRau9B"
      }
    },
    {
      "cell_type": "markdown",
      "source": [
        "## Why `python` is a right choice for Computational Statistics ?\n",
        "\n",
        "Python is a popular programming language in scientific computing, because it has many data-oriented feature packages that can speed up and simplify data processing, thus saving time."
      ],
      "metadata": {
        "id": "_MCFieE_adMy"
      }
    },
    {
      "cell_type": "markdown",
      "source": [
        "## What is Python?\n",
        "\n",
        "- `Python` is an *object-oriented*, high-level programming language.\n",
        "\n",
        "- Its built-in data structures and properties, combined with dynamic typing (meaning we don’t have to declare the type of variable like in C or Java) and binding, make it ideal for application development and its use as a scripting language.\n",
        "\n",
        "- Python’s simple syntax emphasizes readability and reduces programming maintenance.\n",
        "\n",
        "- Python is a programming language that can be used for a wide range of tasks such as software creation, web development, script writing, unlike HTML, CSS, and JavaScript.\n",
        "\n",
        "## What is data analysis?\n",
        "Data analysis is the process of gathering raw data and converting it into information that the users can use to make decisions.\n",
        "\n",
        "It entails inspecting, cleansing, transforming, and modeling data to uncover valuable information, draw conclusions, and aid decision-making.\n",
        "\n",
        "In today’s business world, data analysis plays an important role in making scientific decisions and assisting businesses in operating more efficiently.\n",
        "\n",
        "**Data mining**  is a form of a data analysis technique that emphasizes statistical modeling and information exploration for predictive rather than strictly descriptive purposes.\n",
        "\n",
        "**Business intelligence** encompasses data analysis that is heavily reliant on aggregation, focusing primarily on business information and decision-making to boost profit turnover.\n",
        "\n"
      ],
      "metadata": {
        "id": "NrkswBkXbDRT"
      }
    },
    {
      "cell_type": "markdown",
      "source": [
        "## Who is a data analyst?\n",
        "Data analysts are in charge of interpreting data, analyzing the results using statistical techniques, and producing regular reports.\n",
        "\n",
        "- They plan and carry out data assessments, data collection processes, and other statistical reliability and quality-improvement techniques.\n",
        "\n",
        "- They are also in charge of data processing and database management from primary and secondary sources.\n",
        "\n"
      ],
      "metadata": {
        "id": "oWcH4c1Qbycr"
      }
    },
    {
      "cell_type": "markdown",
      "source": [
        "## What makes Python a brilliant choice for data analysis?\n",
        "\n",
        "- Easy to learn\n",
        "\n",
        "- Flexibility\n",
        "\n",
        "- Huge libraries collection\n",
        "\n",
        "- Graphics and visualization\n",
        "- Built-in data analytics tools\n"
      ],
      "metadata": {
        "id": "WVNAbHTWb340"
      }
    },
    {
      "cell_type": "markdown",
      "source": [
        "#... So let's jump into  `PyWorks 1.0`...\n",
        "\n",
        "\n",
        "We will be using `Python` a fair amount in this class. `Python` is a high-level scripting language that offers an interactive programming environment. We assume programming experience, so this workshop will focus on the unique properties of `Python`.\n",
        "\n",
        "Programming languages generally have the following common ingredients: \n",
        "\n",
        ">*variables, operators, iterators, conditional statements, functions (built-in and user defined) and higher-order data structures*.\n",
        "\n",
        " We will look at these in Python and highlight qualities unique to this language."
      ],
      "metadata": {
        "id": "tO2K3Bk2eouN"
      }
    },
    {
      "cell_type": "markdown",
      "source": [
        "## Variables\n",
        "Variables in `Python` are defined and assigned for you when you set a value to them.\n",
        "\n",
        ">Example:\n",
        "\n",
        "```\n",
        "# assign 2 to the variable 'py_variable'\n",
        "py_variable= 2 \n",
        "print(\"Value storedis\",py_variable) # displays the value stored in 'py_variable'\n",
        "type(py_variable)  # return the data type of 'py_variable'\n",
        "```\n",
        "\n",
        "Just copy and paste this `python` code chunk in a code cell and run to get the output."
      ],
      "metadata": {
        "id": "NY7PmB22fHKN"
      }
    },
    {
      "cell_type": "code",
      "source": [
        "# assign 2 to the variable 'py_variable'\n",
        "py_variable= 2 \n",
        "print(\"Value storedis\",py_variable) # displays the value stored in 'py_variable'\n",
        "type(py_variable)  # return the data type of 'py_variable'"
      ],
      "metadata": {
        "colab": {
          "base_uri": "https://localhost:8080/"
        },
        "id": "_39fEHEMgBi1",
        "outputId": "a1e64ff1-3df8-4d44-cd15-b134ab0015ef"
      },
      "execution_count": null,
      "outputs": [
        {
          "output_type": "stream",
          "name": "stdout",
          "text": [
            "2\n"
          ]
        },
        {
          "output_type": "execute_result",
          "data": {
            "text/plain": [
              "int"
            ]
          },
          "metadata": {},
          "execution_count": 1
        }
      ]
    },
    {
      "cell_type": "markdown",
      "source": [
        "This makes variable definition easy for the programmer. As usual, though, great power comes with great responsibility. For example:\n",
        "\n"
      ],
      "metadata": {
        "id": "m3aCuWuognCV"
      }
    },
    {
      "cell_type": "code",
      "source": [
        "py_varible = py_variable+100\n",
        "print (py_variable)\n",
        "     "
      ],
      "metadata": {
        "colab": {
          "base_uri": "https://localhost:8080/"
        },
        "id": "0G8V7nzUekMB",
        "outputId": "686e5936-0535-438b-9126-e24847cd8ba7"
      },
      "execution_count": null,
      "outputs": [
        {
          "output_type": "stream",
          "name": "stdout",
          "text": [
            "2\n"
          ]
        }
      ]
    },
    {
      "cell_type": "markdown",
      "source": [
        "> **Note:** If you accidentally mistype a variable name, `Python` will not catch it for you. This can lead to bugs that can be hard to track - so beware.\n",
        "\n",
        "## Types and Typecasting\n",
        "The usual typecasting is available in `Python`, so it is easy to convert `strings` to `ints` or floats, `floats` to `ints`, etc. The syntax is slightly different than C:"
      ],
      "metadata": {
        "id": "isKdhEjzg4AG"
      }
    },
    {
      "cell_type": "code",
      "source": [
        "a = \"1\"\n",
        "b = 5 \n",
        "print(a+b)"
      ],
      "metadata": {
        "colab": {
          "base_uri": "https://localhost:8080/",
          "height": 200
        },
        "id": "G05Z_RE_hLZg",
        "outputId": "c90d6a28-dcda-4979-b03e-1cadd8c78f97"
      },
      "execution_count": null,
      "outputs": [
        {
          "output_type": "error",
          "ename": "TypeError",
          "evalue": "ignored",
          "traceback": [
            "\u001b[0;31m---------------------------------------------------------------------------\u001b[0m",
            "\u001b[0;31mTypeError\u001b[0m                                 Traceback (most recent call last)",
            "\u001b[0;32m<ipython-input-3-aaf9e4395aa2>\u001b[0m in \u001b[0;36m<module>\u001b[0;34m\u001b[0m\n\u001b[1;32m      1\u001b[0m \u001b[0ma\u001b[0m \u001b[0;34m=\u001b[0m \u001b[0;34m\"1\"\u001b[0m\u001b[0;34m\u001b[0m\u001b[0;34m\u001b[0m\u001b[0m\n\u001b[1;32m      2\u001b[0m \u001b[0mb\u001b[0m \u001b[0;34m=\u001b[0m \u001b[0;36m5\u001b[0m\u001b[0;34m\u001b[0m\u001b[0;34m\u001b[0m\u001b[0m\n\u001b[0;32m----> 3\u001b[0;31m \u001b[0mprint\u001b[0m\u001b[0;34m(\u001b[0m\u001b[0ma\u001b[0m\u001b[0;34m+\u001b[0m\u001b[0mb\u001b[0m\u001b[0;34m)\u001b[0m\u001b[0;34m\u001b[0m\u001b[0;34m\u001b[0m\u001b[0m\n\u001b[0m",
            "\u001b[0;31mTypeError\u001b[0m: can only concatenate str (not \"int\") to str"
          ]
        }
      ]
    },
    {
      "cell_type": "markdown",
      "source": [
        "This error can by corrected using `type casting` as shown below:\n",
        "\n",
        ">Note that the typing is dynamic. I.e. a variable that was initally say an integer can become another type (float, string, etc.) via reassignment.\n",
        "\n"
      ],
      "metadata": {
        "id": "-GogDqIPhUH9"
      }
    },
    {
      "cell_type": "code",
      "source": [
        "a = \"1\"\n",
        "b = 5\n",
        "print(int(a)+b)"
      ],
      "metadata": {
        "colab": {
          "base_uri": "https://localhost:8080/"
        },
        "id": "QkuVyHqSha5L",
        "outputId": "1cb0c95a-e10a-41ca-cfd6-b9260a8a09f7"
      },
      "execution_count": null,
      "outputs": [
        {
          "output_type": "stream",
          "name": "stdout",
          "text": [
            "6\n"
          ]
        }
      ]
    },
    {
      "cell_type": "markdown",
      "source": [
        "## Operators\n",
        "\n",
        "`Python` offers the usual operators such as `+,-,/,*,=,>,<,==,!=,&,|`, (sum, difference, divide, product, assignment, greater than, less than, equal - comparison,not equal, and, or, respectively).\n",
        "Additionally, there are `%,// and **` (modulo, floor division and 'to the power'). Note a few specifics:"
      ],
      "metadata": {
        "id": "Gq435aV8h1-T"
      }
    },
    {
      "cell_type": "code",
      "source": [
        "print(3/4)\n",
        "print(3.0 / 4.0)\n",
        "print(3%4)\n",
        "print(3//4)\n",
        "print(3**4)"
      ],
      "metadata": {
        "colab": {
          "base_uri": "https://localhost:8080/"
        },
        "id": "gbTVWlUoiETC",
        "outputId": "67b1dddb-64f2-44a7-d37d-f2303729bc15"
      },
      "execution_count": null,
      "outputs": [
        {
          "output_type": "stream",
          "name": "stdout",
          "text": [
            "0.75\n",
            "0.75\n",
            "3\n",
            "0\n",
            "81\n"
          ]
        }
      ]
    },
    {
      "cell_type": "markdown",
      "source": [
        ">Note the behavior of / when applied to integers! This is similar to the behavior of other strongly typed languages such as C/C++. The result of the integer division is the same as the floor division //. If you want the floating point result, the arguments to / must be floats as well (or appropriately typecast)."
      ],
      "metadata": {
        "id": "3atKc0m6ismV"
      }
    },
    {
      "cell_type": "code",
      "source": [
        "a = 3\n",
        "b = 4\n",
        "print(a/b)\n",
        "print(float(a)/float(b))"
      ],
      "metadata": {
        "colab": {
          "base_uri": "https://localhost:8080/"
        },
        "id": "2uu1802qicWa",
        "outputId": "222a7982-5691-417d-e5fb-4c0b0322cb7e"
      },
      "execution_count": null,
      "outputs": [
        {
          "output_type": "stream",
          "name": "stdout",
          "text": [
            "0.75\n",
            "0.75\n"
          ]
        }
      ]
    },
    {
      "cell_type": "markdown",
      "source": [
        "## Iterators\n",
        "`Python` has the usual iterators, `while, for`, and some other constructions that will be addressed later. Here are examples of each:"
      ],
      "metadata": {
        "id": "4h1Df907kqGT"
      }
    },
    {
      "cell_type": "code",
      "source": [
        "# example of for loop\n",
        "for i in range(1,10):\n",
        "     print(i)\n",
        "     \n"
      ],
      "metadata": {
        "colab": {
          "base_uri": "https://localhost:8080/"
        },
        "id": "njoloNuikwiz",
        "outputId": "743ee828-2f7f-4628-ee59-8fe39cf77b30"
      },
      "execution_count": null,
      "outputs": [
        {
          "output_type": "stream",
          "name": "stdout",
          "text": [
            "1\n",
            "2\n",
            "3\n",
            "4\n",
            "5\n",
            "6\n",
            "7\n",
            "8\n",
            "9\n"
          ]
        }
      ]
    },
    {
      "cell_type": "markdown",
      "source": [
        ">The most important thing to note above is that the range function gives us values up to, but not including, the upper limit.\n",
        "\n"
      ],
      "metadata": {
        "id": "tsacsNEHk9KJ"
      }
    },
    {
      "cell_type": "code",
      "source": [
        "# example of while loop\n",
        "i = 1\n",
        "while i < 10:\n",
        "    print(i)\n",
        "    i+=1"
      ],
      "metadata": {
        "id": "MT00fTRVk8XQ"
      },
      "execution_count": null,
      "outputs": []
    },
    {
      "cell_type": "markdown",
      "source": [
        "## Conditional Statements"
      ],
      "metadata": {
        "id": "98oaLON3lQGu"
      }
    },
    {
      "cell_type": "code",
      "source": [
        "a = 20\n",
        "if a >= 22:\n",
        "   print(\"if\")\n",
        "elif a >= 21:\n",
        "    print(\"elif\")\n",
        "else:\n",
        "    print(\"else\")\n",
        "     "
      ],
      "metadata": {
        "id": "lZJL-BdalneN"
      },
      "execution_count": null,
      "outputs": []
    },
    {
      "cell_type": "markdown",
      "source": [
        ">Again, nothing remarkable here, just need to learn the syntax. Here, we should also mention spacing. Python is picky about indentation - you must start a newline after each conditional statemen (it is the same for the iterators above) and indent the same number of spaces for every statement within the scope of that condition."
      ],
      "metadata": {
        "id": "OrnPxWhDlsZ3"
      }
    },
    {
      "cell_type": "markdown",
      "source": [
        "## Exceptions in `Python`\n",
        "Python has another type of conditional expression that is very useful. Suppose your program is processing user input or data from a file. You don't always know for sure what you are getting in that case, and this can lead to problems. The `try/except` conditional can solve them!"
      ],
      "metadata": {
        "id": "2p3Iu4Nul6gu"
      }
    },
    {
      "cell_type": "code",
      "source": [
        "a = \"1\"\n",
        "\n",
        "try:\n",
        "  b = a + 2 \n",
        "except:\n",
        "  print(a, \" is not a number\") \n"
      ],
      "metadata": {
        "colab": {
          "base_uri": "https://localhost:8080/"
        },
        "id": "p357CyERmCIR",
        "outputId": "81c80a58-fc62-4b79-f509-532e8a740767"
      },
      "execution_count": null,
      "outputs": [
        {
          "output_type": "stream",
          "name": "stdout",
          "text": [
            "1  is not a number\n"
          ]
        }
      ]
    },
    {
      "cell_type": "markdown",
      "source": [
        "## Functions\n",
        "\n",
        "We can write repeated process in the form of user defined functions. Syntax of `function` in `Python` is:\n",
        "\n",
        "```\n",
        "def <function name>(arguments):\n",
        "  function body\n",
        "```\n",
        ">**Example:** `Python` function to calculate division.  \n"
      ],
      "metadata": {
        "id": "K1VshCBSmOoc"
      }
    },
    {
      "cell_type": "code",
      "source": [
        "# function definition\n",
        "def Division(a, b):\n",
        "    print(a/b)"
      ],
      "metadata": {
        "id": "AE0HXlcJmvT9"
      },
      "execution_count": null,
      "outputs": []
    },
    {
      "cell_type": "code",
      "source": [
        "# calling the function\n",
        "\n",
        "Division(1,9)"
      ],
      "metadata": {
        "colab": {
          "base_uri": "https://localhost:8080/"
        },
        "id": "oeeQLU-3m2Sp",
        "outputId": "10792eb3-0617-4571-8d7a-eac9eae08fa5"
      },
      "execution_count": null,
      "outputs": [
        {
          "output_type": "stream",
          "name": "stdout",
          "text": [
            "0.1111111111111111\n"
          ]
        }
      ]
    },
    {
      "cell_type": "code",
      "source": [
        "Division(0.5,8)"
      ],
      "metadata": {
        "colab": {
          "base_uri": "https://localhost:8080/"
        },
        "id": "RRAn8XmvnE9L",
        "outputId": "2f973d81-ea18-42eb-bfc0-1dfae71f98ee"
      },
      "execution_count": null,
      "outputs": [
        {
          "output_type": "stream",
          "name": "stdout",
          "text": [
            "0.0625\n"
          ]
        }
      ]
    },
    {
      "cell_type": "markdown",
      "source": [
        "### Modified version with `try-exception` options"
      ],
      "metadata": {
        "id": "e489gz8eneRI"
      }
    },
    {
      "cell_type": "code",
      "source": [
        "def Division(a, b):\n",
        "    try:\n",
        "        print(a/b)\n",
        "    except:\n",
        "        if b == 0:\n",
        "           print(\"cannot divide by zero\")\n",
        "        else:\n",
        "           print(float(a)/float(b))\n"
      ],
      "metadata": {
        "id": "oTya5sd-nmq5"
      },
      "execution_count": null,
      "outputs": []
    },
    {
      "cell_type": "code",
      "source": [
        "Division(2,\"2\")\n",
        "Division(2,0)"
      ],
      "metadata": {
        "colab": {
          "base_uri": "https://localhost:8080/"
        },
        "id": "pHGaIZXXnnn5",
        "outputId": "82373e41-0762-46e4-d0a5-966c8905e979"
      },
      "execution_count": null,
      "outputs": [
        {
          "output_type": "stream",
          "name": "stdout",
          "text": [
            "1.0\n",
            "cannot divide by zero\n"
          ]
        }
      ]
    },
    {
      "cell_type": "markdown",
      "source": [
        "## Strings and String Handling\n",
        "One of the most important features of `Python` is its powerful and easy handling of strings. Defining strings is simple enough in most languages. But in `Python`, it is easy to search and replace, convert cases, concatenate, or access elements. "
      ],
      "metadata": {
        "id": "NdJoWDlaoGva"
      }
    },
    {
      "cell_type": "code",
      "source": [
        "a = \"A string of characters, with newline \\n CAPITALS, etc.\"\n",
        "print(a)\n",
        "b=5.0\n",
        "newstring = a + \"\\n We can format strings for printing %.2f\"\n",
        "print(newstring %b)"
      ],
      "metadata": {
        "colab": {
          "base_uri": "https://localhost:8080/"
        },
        "id": "2gi7Z86hoD-A",
        "outputId": "d5e7356e-742e-4a15-b75d-70063f8a3d3f"
      },
      "execution_count": null,
      "outputs": [
        {
          "output_type": "stream",
          "name": "stdout",
          "text": [
            "A string of characters, with newline \n",
            " CAPITALS, etc.\n",
            "A string of characters, with newline \n",
            " CAPITALS, etc.\n",
            " We can format strings for printing 5.00\n"
          ]
        }
      ]
    },
    {
      "cell_type": "code",
      "source": [
        "a=4.5\n",
        "b=6.7\n",
        "sum=a+b\n",
        "print((\"Sum of {} and {} is {}\").format(a,b, sum))"
      ],
      "metadata": {
        "colab": {
          "base_uri": "https://localhost:8080/"
        },
        "id": "iTTuj25qoqMb",
        "outputId": "8c323f28-5df7-4262-88ee-01a353d963eb"
      },
      "execution_count": null,
      "outputs": [
        {
          "output_type": "stream",
          "name": "stdout",
          "text": [
            "Sum of 4.5 and 6.7 is 11.2\n"
          ]
        }
      ]
    },
    {
      "cell_type": "code",
      "source": [
        "# slicing operation on strings\n",
        "a = \"ABC DEFG\"\n",
        "print(a[1:3])\n",
        "print(a[0:5])"
      ],
      "metadata": {
        "colab": {
          "base_uri": "https://localhost:8080/"
        },
        "id": "wsc-yoM0pZsD",
        "outputId": "e34e4696-4b43-4274-80f9-4efb7305aaf7"
      },
      "execution_count": null,
      "outputs": [
        {
          "output_type": "stream",
          "name": "stdout",
          "text": [
            "BC\n",
            "ABC D\n"
          ]
        }
      ]
    },
    {
      "cell_type": "code",
      "source": [
        "# some string operation examples\n",
        "\n",
        "a = \"ABC defg\"\n",
        "print(a.lower())\n",
        "print(a.upper())\n",
        "print(a.find('d'))\n",
        "print(a.replace('de','a'))\n",
        "print(a)\n",
        "b = a.replace('def','aaa')\n",
        "print(b)\n",
        "b = b.replace('a','c')\n",
        "print(b)\n",
        "b.count('c')\n"
      ],
      "metadata": {
        "colab": {
          "base_uri": "https://localhost:8080/"
        },
        "id": "WoguXrVZpnqy",
        "outputId": "38e381db-2e5c-4410-872a-f1d11886a567"
      },
      "execution_count": null,
      "outputs": [
        {
          "output_type": "stream",
          "name": "stdout",
          "text": [
            "abc defg\n",
            "ABC DEFG\n",
            "4\n",
            "ABC afg\n",
            "ABC defg\n",
            "ABC aaag\n",
            "ABC cccg\n"
          ]
        },
        {
          "output_type": "execute_result",
          "data": {
            "text/plain": [
              "3"
            ]
          },
          "metadata": {},
          "execution_count": 23
        }
      ]
    },
    {
      "cell_type": "markdown",
      "source": [
        "## Derived datatypes in `Python`\n",
        "\n",
        "> `Lists,set,Tuples, Dictionaries`"
      ],
      "metadata": {
        "id": "upQuLi6up1E3"
      }
    },
    {
      "cell_type": "markdown",
      "source": [
        "### 1. Lists\n",
        "Lists are exactly as the name implies. They are lists of objects. The objects can be any data type (including lists), and it is allowed to mix data types. In this way they are much more flexible than arrays. It is possible to `append, delete, insert` and `count` elements and to `sort`, `reverse`, etc.\n",
        "\n",
        ">Example"
      ],
      "metadata": {
        "id": "Lcveh_A4qDTk"
      }
    },
    {
      "cell_type": "code",
      "source": [
        "a_list = [1,2,3,\"this is a string\",5.3]\n",
        "b_list = [\"A\",\"B\",\"F\",\"G\",\"d\",\"x\",\"c\",a_list,3]\n",
        "print(b_list)\n",
        "print(b_list[7:9])"
      ],
      "metadata": {
        "colab": {
          "base_uri": "https://localhost:8080/"
        },
        "id": "kCE8lza-p_hM",
        "outputId": "7aa208f2-9490-4f32-e330-3c4d03252a65"
      },
      "execution_count": null,
      "outputs": [
        {
          "output_type": "stream",
          "name": "stdout",
          "text": [
            "['A', 'B', 'F', 'G', 'd', 'x', 'c', [1, 2, 3, 'this is a string', 5.3], 3]\n",
            "[[1, 2, 3, 'this is a string', 5.3], 3]\n"
          ]
        }
      ]
    },
    {
      "cell_type": "code",
      "source": [
        "a = [1,2,3,4,5,6,7]\n",
        "a.insert(0,0)\n",
        "print(a)\n",
        "a.append(8)\n",
        "print(a)\n",
        "a.reverse()\n",
        "print(a)\n",
        "a.sort()\n",
        "print(a)\n",
        "a.pop()\n",
        "print(a)\n",
        "a.remove(3)\n",
        "print(a)\n",
        "a.remove(a[4])\n",
        "print(a)"
      ],
      "metadata": {
        "colab": {
          "base_uri": "https://localhost:8080/"
        },
        "id": "ek4ospZpqzE1",
        "outputId": "80870334-1a17-40cb-86b5-1d04f58b32a8"
      },
      "execution_count": null,
      "outputs": [
        {
          "output_type": "stream",
          "name": "stdout",
          "text": [
            "[0, 1, 2, 3, 4, 5, 6, 7]\n",
            "[0, 1, 2, 3, 4, 5, 6, 7, 8]\n",
            "[8, 7, 6, 5, 4, 3, 2, 1, 0]\n",
            "[0, 1, 2, 3, 4, 5, 6, 7, 8]\n",
            "[0, 1, 2, 3, 4, 5, 6, 7]\n",
            "[0, 1, 2, 4, 5, 6, 7]\n",
            "[0, 1, 2, 4, 6, 7]\n"
          ]
        }
      ]
    },
    {
      "cell_type": "markdown",
      "source": [
        "**list comprehensions:** Lists can be constructed using `for` and some conditional statements like $\\lambda-$ functions. These are called, 'list comprehensions'. For example:\n",
        "\n"
      ],
      "metadata": {
        "id": "wntTA-dzrF63"
      }
    },
    {
      "cell_type": "code",
      "source": [
        "even_numbers = [x for x in range(10) if x % 2 == 0]\n",
        "print(even_numbers)\n"
      ],
      "metadata": {
        "colab": {
          "base_uri": "https://localhost:8080/"
        },
        "id": "ap4g7yCVrElg",
        "outputId": "667cc62c-03e7-48a2-8e88-0ce001b97e68"
      },
      "execution_count": null,
      "outputs": [
        {
          "output_type": "stream",
          "name": "stdout",
          "text": [
            "[0, 2, 4, 6, 8]\n"
          ]
        }
      ]
    },
    {
      "cell_type": "markdown",
      "source": [
        ">List comprehensions can work on strings as well:\n",
        "\n",
        "1. create a list of letters from the sentence `Pyworks 1.0 will helps me learn Python`"
      ],
      "metadata": {
        "id": "s2pD7mtGre3k"
      }
    },
    {
      "cell_type": "code",
      "source": [
        "first_sentence = \"Pyworks 1.0 will help me learn Python.\"\n",
        "characters = [x for x in first_sentence]\n",
        "print(characters)"
      ],
      "metadata": {
        "colab": {
          "base_uri": "https://localhost:8080/"
        },
        "id": "PWB6eSGCrgc9",
        "outputId": "b31c9369-170d-4cf1-e63f-cbf39e9d22f7"
      },
      "execution_count": null,
      "outputs": [
        {
          "output_type": "stream",
          "name": "stdout",
          "text": [
            "['P', 'y', 'w', 'o', 'r', 'k', 's', ' ', '1', '.', '0', ' ', 'w', 'i', 'l', 'l', ' ', 'h', 'e', 'l', 'p', ' ', 'm', 'e', ' ', 'l', 'e', 'a', 'r', 'n', ' ', 'P', 'y', 't', 'h', 'o', 'n', '.']\n"
          ]
        }
      ]
    },
    {
      "cell_type": "markdown",
      "source": [
        ">**Map function:** Another similar feature is called `map`. Map applies a function to a list. The syntax is\n",
        "```\n",
        "map(aFunction, aSequence)\n",
        "```\n",
        "\n",
        "Consider the following examples:"
      ],
      "metadata": {
        "id": "n9GsdwVcs5he"
      }
    },
    {
      "cell_type": "code",
      "source": [
        "def sqr(x): return x ** 2"
      ],
      "metadata": {
        "id": "Ty2bxP8UtGSG"
      },
      "execution_count": null,
      "outputs": []
    },
    {
      "cell_type": "code",
      "source": [
        "a = [2,3,4]\n",
        "b = [10,5,3]\n",
        "c = map(sqr,a)\n"
      ],
      "metadata": {
        "id": "OWZzNNmktJ0T"
      },
      "execution_count": null,
      "outputs": []
    },
    {
      "cell_type": "code",
      "source": [
        "print(list(c))"
      ],
      "metadata": {
        "colab": {
          "base_uri": "https://localhost:8080/"
        },
        "id": "_1ycLHtatmMS",
        "outputId": "f494dbe5-0c6c-4246-bbae-c3694bea08c2"
      },
      "execution_count": null,
      "outputs": [
        {
          "output_type": "stream",
          "name": "stdout",
          "text": [
            "[4, 9, 16]\n"
          ]
        }
      ]
    },
    {
      "cell_type": "code",
      "source": [
        "d = map(pow,a,b)\n",
        "print(list(d))\n",
        "  "
      ],
      "metadata": {
        "colab": {
          "base_uri": "https://localhost:8080/"
        },
        "id": "YzbTCDcDuvHo",
        "outputId": "04886915-bed4-4aba-b4df-09f5fbdd0e2c"
      },
      "execution_count": null,
      "outputs": [
        {
          "output_type": "stream",
          "name": "stdout",
          "text": [
            "[1024, 243, 64]\n"
          ]
        }
      ]
    },
    {
      "cell_type": "markdown",
      "source": [
        "## Tuples\n",
        "Tuples are like lists with one very important difference. Tuples are *not changeable (mutable)*.\n",
        "\n",
        ">Syntax\n",
        "\n",
        "```\n",
        "tuple_name=(item1,item2,item3,...)\n",
        "```"
      ],
      "metadata": {
        "id": "dG0VhpG5vlPI"
      }
    },
    {
      "cell_type": "code",
      "source": [
        "a = (1,2,3,4)\n",
        "print(a)\n",
        "#a[1] = 2 # will produce an error"
      ],
      "metadata": {
        "id": "8iS0ECLbvtVf"
      },
      "execution_count": null,
      "outputs": []
    },
    {
      "cell_type": "code",
      "source": [
        "a = (1,\"string in a tuple\",5.3)\n",
        "b = (a,1,2,3)\n",
        "print(a)\n",
        "print(b)"
      ],
      "metadata": {
        "id": "zE88509rwCcX"
      },
      "execution_count": null,
      "outputs": []
    },
    {
      "cell_type": "markdown",
      "source": [
        ">One other handy feature of tuples is known as 'tuple unpacking'. Essentially, this means we can assign the values of a tuple to a list of variable names, like so:"
      ],
      "metadata": {
        "id": "yw_61dmYwG_6"
      }
    },
    {
      "cell_type": "code",
      "source": [
        "my_pets = (\"Chestnut\", \"Tibbs\", \"Dash\", \"Bast\")\n",
        "(aussie,b_collie,indoor_cat,outdoor_cat) = my_pets\n",
        "print(aussie)\n",
        "cats=[indoor_cat,outdoor_cat]\n",
        "print(cats)\n",
        "type(cats)\n"
      ],
      "metadata": {
        "colab": {
          "base_uri": "https://localhost:8080/"
        },
        "id": "bmx3QwWnwJXH",
        "outputId": "9bf1ce7f-bc1a-49bd-e6d0-16fe841d8785"
      },
      "execution_count": null,
      "outputs": [
        {
          "output_type": "stream",
          "name": "stdout",
          "text": [
            "Chestnut\n",
            "['Dash', 'Bast']\n"
          ]
        },
        {
          "output_type": "execute_result",
          "data": {
            "text/plain": [
              "list"
            ]
          },
          "metadata": {},
          "execution_count": 53
        }
      ]
    },
    {
      "cell_type": "code",
      "source": [
        "type(my_pets)"
      ],
      "metadata": {
        "colab": {
          "base_uri": "https://localhost:8080/"
        },
        "id": "dh5aAay3wrra",
        "outputId": "0bcf27ca-7d95-4db1-e42c-a9c5b78ee438"
      },
      "execution_count": null,
      "outputs": [
        {
          "output_type": "execute_result",
          "data": {
            "text/plain": [
              "tuple"
            ]
          },
          "metadata": {},
          "execution_count": 50
        }
      ]
    },
    {
      "cell_type": "markdown",
      "source": [
        "### Sets\n",
        "Sets are unordered collections of unique elements. Intersections, unions and set differences are supported operations. They can be used to remove duplicates from a collection or to test for membership. For example:"
      ],
      "metadata": {
        "id": "ix72Q4HaxDZG"
      }
    },
    {
      "cell_type": "code",
      "source": [
        "A={1,2,3,4,6}\n",
        "print(A)\n",
        "B=set([1,2,4,5,2,3,5,2,4,5,6,7,1])\n",
        "print(B)"
      ],
      "metadata": {
        "colab": {
          "base_uri": "https://localhost:8080/"
        },
        "id": "Itzafo9XxKEB",
        "outputId": "ff61dba6-000b-4662-9908-6345700fd911"
      },
      "execution_count": null,
      "outputs": [
        {
          "output_type": "stream",
          "name": "stdout",
          "text": [
            "{1, 2, 3, 4, 6}\n",
            "{1, 2, 3, 4, 5, 6, 7}\n"
          ]
        }
      ]
    },
    {
      "cell_type": "code",
      "source": [
        "fruits = set([\"apples\",\"oranges\",\"grapes\",\"bananas\"])\n",
        "citrus = set([\"lemons\",\"oranges\",\"limes\",\"grapefruits\",\"clementines\"])\n",
        "citrus_in_fruits = fruits & citrus   #intersection\n",
        "print(citrus_in_fruits)\n",
        "diff_fruits = fruits - citrus        # set difference\n",
        "print(diff_fruits)\n",
        "diff_fruits_reverse = citrus - fruits  # set difference\n",
        "print(diff_fruits_reverse)\n",
        "citrus_or_fruits = citrus | fruits     # set union\n",
        "print(citrus_or_fruits)"
      ],
      "metadata": {
        "colab": {
          "base_uri": "https://localhost:8080/"
        },
        "id": "iZdXUq2mz4CO",
        "outputId": "eab69568-c675-456f-b1ee-1608392de78b"
      },
      "execution_count": null,
      "outputs": [
        {
          "output_type": "stream",
          "name": "stdout",
          "text": [
            "{'oranges'}\n",
            "{'apples', 'grapes', 'bananas'}\n",
            "{'limes', 'grapefruits', 'lemons', 'clementines'}\n",
            "{'oranges', 'bananas', 'grapes', 'limes', 'lemons', 'clementines', 'grapefruits', 'apples'}\n"
          ]
        }
      ]
    },
    {
      "cell_type": "code",
      "source": [
        "a_list = [\"a\", \"a\",\"a\", \"b\",1,2,3,\"d\",1]\n",
        "print(a_list)\n",
        "a_set = set(a_list)  # Convert list to set\n",
        "print(a_set)         # Creates a set with unique elements\n",
        "new_list = list(a_set) # Convert set to list\n",
        "print(new_list)        # Obtain a list with unique elements "
      ],
      "metadata": {
        "colab": {
          "base_uri": "https://localhost:8080/"
        },
        "id": "uMYTbP8P0Euu",
        "outputId": "cd2ffcb9-61fc-4e99-82dd-4ec0b204f558"
      },
      "execution_count": null,
      "outputs": [
        {
          "output_type": "stream",
          "name": "stdout",
          "text": [
            "['a', 'a', 'a', 'b', 1, 2, 3, 'd', 1]\n",
            "{1, 2, 3, 'd', 'a', 'b'}\n",
            "[1, 2, 3, 'd', 'a', 'b']\n"
          ]
        }
      ]
    },
    {
      "cell_type": "markdown",
      "source": [
        "## Dictionaries\n",
        "Dictionaries are unordered, keyed lists. Lists are ordered, and the index may be viewed as a key."
      ],
      "metadata": {
        "id": "IJ0eSMENxrDy"
      }
    },
    {
      "cell_type": "code",
      "source": [
        "a = {'anItem': \"A\", 'anotherItem': \"B\",'athirdItem':\"C\",'afourthItem':\"D\"} # dictionary example\n",
        "print(a)"
      ],
      "metadata": {
        "colab": {
          "base_uri": "https://localhost:8080/"
        },
        "id": "UeNWDKIxx11n",
        "outputId": "59117d12-9ff6-41f2-a9d9-ca1bb6e71e0e"
      },
      "execution_count": null,
      "outputs": [
        {
          "output_type": "stream",
          "name": "stdout",
          "text": [
            "{'anItem': 'A', 'anotherItem': 'B', 'athirdItem': 'C', 'afourthItem': 'D'}\n"
          ]
        }
      ]
    },
    {
      "cell_type": "code",
      "source": [
        "Features={'Interior':['wardrob','modular kitchen','corner sofa'],'Exterior':['sitout','balcony','fountain','garden']}"
      ],
      "metadata": {
        "id": "C8f4AHKVx8Ua"
      },
      "execution_count": null,
      "outputs": []
    },
    {
      "cell_type": "code",
      "source": [
        "print(Features['Interior'])"
      ],
      "metadata": {
        "colab": {
          "base_uri": "https://localhost:8080/"
        },
        "id": "XO8TYtpgzJnI",
        "outputId": "94401783-f4ae-4b89-a0e2-c5f4d4c08cbe"
      },
      "execution_count": null,
      "outputs": [
        {
          "output_type": "stream",
          "name": "stdout",
          "text": [
            "['wardrob', 'modular kitchen', 'corner sofa']\n"
          ]
        }
      ]
    },
    {
      "cell_type": "code",
      "source": [
        "for i in Features['Interior']: print(i)"
      ],
      "metadata": {
        "colab": {
          "base_uri": "https://localhost:8080/"
        },
        "id": "5mGlha69zVfI",
        "outputId": "cc98275f-1b52-443e-e24a-291624d8850e"
      },
      "execution_count": null,
      "outputs": [
        {
          "output_type": "stream",
          "name": "stdout",
          "text": [
            "wardrob\n",
            "modular kitchen\n",
            "corner sofa\n"
          ]
        }
      ]
    },
    {
      "cell_type": "markdown",
      "source": [
        "## Classes\n",
        "A class bundles data (known as attributes) and functions (known as methods) together. We access the attributes and mehtods of a class using the `.` notation. Since everything in `Python` is an object, we have already been using this attribute acccess - e.g. when we call `hello.upper()`, we are using the `upper` method of the instance `hello` of the string class."
      ],
      "metadata": {
        "id": "EgU9zscH05qa"
      }
    },
    {
      "cell_type": "markdown",
      "source": [
        "### Modules\n",
        "As the code base gets larger, it is convenient to organize them as `moudles` or `packages`. At the simplest level, modules can just be regular `python` files. We import functions in modules using one of the following import variants:\n",
        "```\n",
        "import numpy\n",
        "import numpy as np # using an alias\n",
        "import numpy.linalg as la # modules can have submodules\n",
        "from numpy import sin, cos, tan # bring trig functions into global namespace\n",
        "from numpy import * # frowned upon because it pollutes the namespace\n",
        "```"
      ],
      "metadata": {
        "id": "3b4YLcmd1J6n"
      }
    },
    {
      "cell_type": "markdown",
      "source": [
        "## Exercises\n",
        "\n",
        "1. Solve the FizzBuzz probelm\n",
        "\n",
        "\"Write a program that prints the numbers from 1 to 5. But for multiples of three print “Fizz” instead of the number and for the multiples of five print “Buzz”. For numbers which are multiples of both three and five print “FizzBuzz”."
      ],
      "metadata": {
        "id": "P-SnoOOJ1rFn"
      }
    },
    {
      "cell_type": "code",
      "source": [
        "for i in range(1,16):\n",
        "  if ((i%3==0 ) & (i%5==0)):\n",
        "    print(\"FizzBuzz\")\n",
        "  elif (i%3==0):\n",
        "    print(\"Fizz\")\n",
        "  elif(i%5==0):\n",
        "    print(\"Buzz\")\n",
        "  else:\n",
        "    print(i)\n",
        "    "
      ],
      "metadata": {
        "colab": {
          "base_uri": "https://localhost:8080/"
        },
        "id": "JYzPvzIU05CS",
        "outputId": "f49c352b-baf4-4a81-a193-07a27a741858"
      },
      "execution_count": null,
      "outputs": [
        {
          "output_type": "stream",
          "name": "stdout",
          "text": [
            "1\n",
            "2\n",
            "Fizz\n",
            "4\n",
            "Buzz\n",
            "Fizz\n",
            "7\n",
            "8\n",
            "Fizz\n",
            "Buzz\n",
            "11\n",
            "Fizz\n",
            "13\n",
            "14\n",
            "FizzBuzz\n"
          ]
        }
      ]
    },
    {
      "cell_type": "markdown",
      "source": [
        "2. Given x=3 and y=4, swap the values of x and y so that x=4 and y=3."
      ],
      "metadata": {
        "id": "jfk3ym704oux"
      }
    },
    {
      "cell_type": "code",
      "source": [
        "x=3\n",
        "y=4\n",
        "t=x\n",
        "x=y\n",
        "y=t\n",
        "print(x,y)\n"
      ],
      "metadata": {
        "colab": {
          "base_uri": "https://localhost:8080/"
        },
        "id": "0zk-GJSg4p4m",
        "outputId": "3fc6f56c-eeeb-4671-b7c6-3ca231d53b5b"
      },
      "execution_count": null,
      "outputs": [
        {
          "output_type": "stream",
          "name": "stdout",
          "text": [
            "4 3\n"
          ]
        }
      ]
    },
    {
      "cell_type": "markdown",
      "source": [
        "3.  Using a dictionary, write a program to calculate the number times each character occurs in the given string s. Ignore differneces in capitalization - i.e 'a' and 'A' should be treated as a single key. For example, we should get a count of 7 for 'a'."
      ],
      "metadata": {
        "id": "IxQVbBoM6mUO"
      }
    },
    {
      "cell_type": "code",
      "source": [
        "# initializing string\n",
        "test_str = \"Malayalam\"\n",
        "test_str=test_str.lower() \n",
        "# using set() + count() to get count\n",
        "# of each element in string\n",
        "res = {i: test_str.count(i) for i in set(test_str)}\n",
        " \n",
        "# printing result\n",
        "print((\"The count of all characters in {} is {}\").format(test_str,res))"
      ],
      "metadata": {
        "colab": {
          "base_uri": "https://localhost:8080/"
        },
        "id": "ZF9YiuhF6lMD",
        "outputId": "17157968-b97d-44d6-a9d9-45540c50866a"
      },
      "execution_count": null,
      "outputs": [
        {
          "output_type": "stream",
          "name": "stdout",
          "text": [
            "The count of all characters in malayalam is {'l': 2, 'y': 1, 'a': 4, 'm': 2}\n"
          ]
        }
      ]
    }
  ]
}